{
 "cells": [
  {
   "cell_type": "markdown",
   "metadata": {},
   "source": [
    "# Входные данные\n",
    "- Две функции, принимающие загаданное число и возвращающие число попыток.\n",
    "- Функция для оценки среднего кол-ва попыток на выборке из 1000 случайных чисел от 1 до 100.\n",
    "\n",
    "# Требуется\n",
    "- Написать функцию, которая будет угадывать число за меньшее кол-во попыток."
   ]
  },
  {
   "cell_type": "code",
   "execution_count": 35,
   "metadata": {},
   "outputs": [],
   "source": [
    "import numpy as np\n",
    "import re\n",
    "\n",
    "def game_core_v1(number, low_number=1, high_number=100):\n",
    "    '''Просто угадываем на random, никак не используя информацию о больше или меньше.\n",
    "       Функция принимает загаданное число, интервал (по умолчанию от 1 до 100) и возвращает число попыток\n",
    "    '''    \n",
    "    count = 0\n",
    "    \n",
    "    while True:\n",
    "        count += 1\n",
    "        predict = np.random.randint(low_number, high_number + 1) # предполагаемое число\n",
    "        if number == predict: \n",
    "            return count \n",
    "        \n",
    "def game_core_v2(number, low_number=1, high_number=100):\n",
    "    '''Сначала устанавливаем любое random число, а потом уменьшаем или увеличиваем его \n",
    "    в зависимости от того, больше оно или меньше нужного.\n",
    "    Функция принимает загаданное число, интервал (по умолчанию от 1 до 100) и возвращает число попыток\n",
    "    '''\n",
    "    count = 1\n",
    "    predict = np.random.randint(low_number, high_number + 1)\n",
    "    \n",
    "    while number != predict:\n",
    "        count += 1\n",
    "        if number > predict: \n",
    "            predict += 1\n",
    "        elif number < predict: \n",
    "            predict -= 1\n",
    "    return(count) \n",
    "\n",
    "\n",
    "\n",
    "def score_game(game_core, low_number=1, high_number=100):\n",
    "    '''Запускаем игру 1000 раз, чтобы узнать, как быстро игра угадывает число\n",
    "    '''\n",
    "    pattern = re.compile('v\\d+')\n",
    "    count_ls = []\n",
    "    np.random.seed(1)  # фиксируем RANDOM SEED, чтобы ваш эксперимент был воспроизводим!\n",
    "    random_array = np.random.randint(low_number, high_number + 1, size=(1000))\n",
    "    \n",
    "    for number in random_array:\n",
    "        count_ls.append(game_core(number, low_number, high_number))\n",
    "        \n",
    "    score = int(np.mean(count_ls))\n",
    "    version = pattern.findall(str(game_core))[0]\n",
    "    print(f\"Алгоритм {version} угадывает число в среднем за {score} попыток\")\n",
    "    return"
   ]
  },
  {
   "cell_type": "code",
   "execution_count": 36,
   "metadata": {},
   "outputs": [
    {
     "data": {
      "text/plain": [
       "67"
      ]
     },
     "execution_count": 36,
     "metadata": {},
     "output_type": "execute_result"
    }
   ],
   "source": [
    "game_core_v2(100)"
   ]
  },
  {
   "cell_type": "markdown",
   "metadata": {},
   "source": [
    "## Решение через метод половинного деления\n",
    "\n",
    "_Дополнительно разрешаем указывать произвольный диапазон_"
   ]
  },
  {
   "cell_type": "code",
   "execution_count": 58,
   "metadata": {},
   "outputs": [
    {
     "name": "stdout",
     "output_type": "stream",
     "text": [
      "5\n",
      "7\n",
      "5\n"
     ]
    }
   ],
   "source": [
    "def game_core_v30(number, low_number=1, high_number=100):\n",
    "    '''Функция принимает загаданное число в заданном диапазоне (по умолчанию от 1 до 100).\n",
    "    Через метод половинного деления компьютер угадывает введеное число.\n",
    "    Функция возвращает количество попыток.\n",
    "    '''\n",
    "    if low_number >= high_number or number < low_number or number > high_number:  \n",
    "        print('Неверное число или диапазон')  # валидация входных данных \n",
    "        raise ValueError('Incorrect argumets') # кидаем ошибку    \n",
    "    else:\n",
    "        count = 1 \n",
    "        predict = (low_number+high_number) // 2 # ищем середину интервала между введенными значениzvb\n",
    "\n",
    "        while number != predict:  \n",
    "            count += 1    \n",
    "            if predict < number: \n",
    "                if predict != number - 1:\n",
    "                    low_number = predict + 1  # сокращаем интервал в два раза для ускорения поиска\n",
    "                    predict = (low_number+high_number) // 2 # ищем середину нового интервала\n",
    "                else:\n",
    "                    predict += 1  # число совпало с верхней границей интервала          \n",
    "            elif predict > number: \n",
    "                if predict != number + 1:\n",
    "                    high_number = predict - 1\n",
    "                    predict = (low_number+high_number) // 2 # ищем середину нового интервала\n",
    "                else:\n",
    "                    predict -= 1  # число совпало с нижней границей интевала                  \n",
    "        return(count)  # возращаем количество попыток\n",
    "    \n",
    "print(game_core_v30(65))\n",
    "print(game_core_v30(100, 1, 100))\n",
    "print(game_core_v30(30, high_number=500))"
   ]
  },
  {
   "cell_type": "markdown",
   "metadata": {},
   "source": [
    "Та же логика, но реализация через списки"
   ]
  },
  {
   "cell_type": "code",
   "execution_count": 60,
   "metadata": {},
   "outputs": [
    {
     "name": "stdout",
     "output_type": "stream",
     "text": [
      "6\n",
      "9\n",
      "8\n"
     ]
    }
   ],
   "source": [
    "def game_core_v20(number, low_number=1, high_number=100):\n",
    "    '''Функция принимает загаданное число в заданном диапазоне (по умолчанию от 1 до 100).\n",
    "    Через метод половинного деления компьютер угадывает введеное число.\n",
    "    Функция возвращает количество попыток.\n",
    "    '''\n",
    "    if low_number > high_number or number < low_number or number > high_number:\n",
    "        print('Неверное число или диапазон') \n",
    "        raise ValueError('Incorrect argumets')\n",
    "    else:\n",
    "        count = 1\n",
    "        list_of_numbers = [x for x in range(low_number, high_number + 1)]  # числовой ряд в заданном интервале\n",
    "        middle = len(list_of_numbers) // 2  # находим середину числового ряда\n",
    "        predict = list_of_numbers[middle]  # делаем попытку угадать\n",
    "\n",
    "        while number != predict:  # пока не угадаем число, сокращаем интервал пополам\n",
    "            count += 1\n",
    "            if number > predict: \n",
    "                list_of_numbers = list_of_numbers[middle:]\n",
    "            elif number < predict: \n",
    "                list_of_numbers = list_of_numbers[:middle]\n",
    "            middle = len(list_of_numbers) // 2\n",
    "            predict = list_of_numbers[middle]        \n",
    "        return(count) # возвращаем количество попыток\n",
    "\n",
    "print(game_core_v20(70))\n",
    "print(game_core_v20(100, 100, 500))\n",
    "print(game_core_v20(100, high_number=500))"
   ]
  },
  {
   "cell_type": "markdown",
   "metadata": {},
   "source": [
    "### Сравнение разных алгоритмов \n",
    "Метод половинного деления находит число на порядок быстрее на дефолтном интервале"
   ]
  },
  {
   "cell_type": "code",
   "execution_count": 61,
   "metadata": {
    "scrolled": true
   },
   "outputs": [
    {
     "name": "stdout",
     "output_type": "stream",
     "text": [
      "Алгоритм v1 угадывает число в среднем за 101 попыток\n",
      "Алгоритм v2 угадывает число в среднем за 33 попыток\n",
      "Алгоритм v20 угадывает число в среднем за 5 попыток\n",
      "Алгоритм v30 угадывает число в среднем за 4 попыток\n"
     ]
    }
   ],
   "source": [
    "score_game(game_core_v1)\n",
    "score_game(game_core_v2)\n",
    "score_game(game_core_v20)\n",
    "score_game(game_core_v30)"
   ]
  },
  {
   "cell_type": "markdown",
   "metadata": {},
   "source": [
    "А на интервале от 1 до 1000 поиск быстрее на два порядка"
   ]
  },
  {
   "cell_type": "code",
   "execution_count": 62,
   "metadata": {},
   "outputs": [
    {
     "name": "stdout",
     "output_type": "stream",
     "text": [
      "Алгоритм v1 угадывает число в среднем за 954 попыток\n",
      "Алгоритм v2 угадывает число в среднем за 355 попыток\n",
      "Алгоритм v20 угадывает число в среднем за 9 попыток\n",
      "Алгоритм v30 угадывает число в среднем за 8 попыток\n"
     ]
    }
   ],
   "source": [
    "score_game(game_core_v1, 1, 1000)\n",
    "score_game(game_core_v2, 1, 1000)\n",
    "score_game(game_core_v20, 1, 1000)\n",
    "score_game(game_core_v30, 1, 1000)"
   ]
  },
  {
   "cell_type": "code",
   "execution_count": null,
   "metadata": {},
   "outputs": [],
   "source": []
  }
 ],
 "metadata": {
  "kernelspec": {
   "display_name": "Python 3",
   "language": "python",
   "name": "python3"
  },
  "language_info": {
   "codemirror_mode": {
    "name": "ipython",
    "version": 3
   },
   "file_extension": ".py",
   "mimetype": "text/x-python",
   "name": "python",
   "nbconvert_exporter": "python",
   "pygments_lexer": "ipython3",
   "version": "3.7.6"
  }
 },
 "nbformat": 4,
 "nbformat_minor": 4
}
