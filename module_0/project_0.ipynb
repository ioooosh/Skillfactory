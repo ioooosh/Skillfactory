{
 "cells": [
  {
   "cell_type": "markdown",
   "metadata": {},
   "source": [
    "# Входные данные:\n",
    "- Две функции, принимающие загаданное число и возвращающие число попыток.\n",
    "- Функция для оценки среднего кол-ва попыток на выборке из 1000 случайных чисел от 1 до 100.\n",
    "\n",
    "# Требуется:\n",
    "- Написать функцию, которая будет угадывать число за меньшее кол-во попыток."
   ]
  },
  {
   "cell_type": "code",
   "execution_count": 108,
   "metadata": {},
   "outputs": [],
   "source": [
    "import numpy as np\n",
    "import re\n",
    "\n",
    "def game_core_v1(number,first_number=1,second_number=100):\n",
    "    '''Просто угадываем на random, никак не используя информацию о больше или меньше.\n",
    "       Функция принимает загаданное число и возвращает число попыток'''\n",
    "    count = 0\n",
    "    while True:\n",
    "        count+=1\n",
    "        predict = np.random.randint(first_number,second_number) # предполагаемое число\n",
    "        if number == predict: \n",
    "            return count # выход из цикла, если угадали\n",
    "\n",
    "def game_core_v2(number,first_number=1,second_number=100):\n",
    "    '''Сначала устанавливаем любое random число, а потом уменьшаем или увеличиваем его \n",
    "    в зависимости от того, больше оно или меньше нужного.\n",
    "    Функция принимает загаданное число и возвращает число попыток'''\n",
    "    count = 1\n",
    "    predict = np.random.randint(first_number,second_number)\n",
    "    while number != predict:\n",
    "        count+=1\n",
    "        if number > predict: \n",
    "            predict += 1\n",
    "        elif number < predict: \n",
    "            predict -= 1\n",
    "    return(count) # выход из цикла, если угадали\n",
    "\n",
    "pattern = re.compile('v\\d+')\n",
    "\n",
    "def score_game(game_core,first_number=1,second_number=100):\n",
    "    '''Запускаем игру 1000 раз, чтобы узнать, как быстро игра угадывает число'''\n",
    "    count_ls = []\n",
    "    np.random.seed(1)  # фиксируем RANDOM SEED, чтобы ваш эксперимент был воспроизводим!\n",
    "    random_array = np.random.randint(first_number,second_number, size=(1000))\n",
    "    for number in random_array:\n",
    "        count_ls.append(game_core(number,first_number,second_number))\n",
    "    score = int(np.mean(count_ls))\n",
    "    version = pattern.findall(str(game_core))[0]\n",
    "    print(f\"Алгоритм {version} угадывает число в среднем за {score} попыток\")\n",
    "    return(score,version)"
   ]
  },
  {
   "cell_type": "markdown",
   "metadata": {},
   "source": [
    "## Решение через метод половинного деления\n",
    "\n",
    "_Дополнительно разрешаем указывать произвольный диапазон_"
   ]
  },
  {
   "cell_type": "code",
   "execution_count": 109,
   "metadata": {},
   "outputs": [
    {
     "name": "stdout",
     "output_type": "stream",
     "text": [
      "5\n",
      "7\n",
      "Введен неверный диапазон\n"
     ]
    }
   ],
   "source": [
    "def game_core_v20(number,first_number=1,second_number=100):\n",
    "    '''Функция принимает загаданное число в заданном диапазоне (по умолчанию от 1 до 100).\n",
    "    Через метод половинного деления компьютер угадывает введеное число.\n",
    "    Функция возвращает количество попыток.'''\n",
    "    \n",
    "    if first_number >= second_number or number < first_number or number > second_number:\n",
    "        return('Введен неверный диапазон')\n",
    "        \n",
    "    else:\n",
    "        count = 1\n",
    "        list_of_numbers = [x for x in range(first_number,second_number)] \n",
    "        middle = len(list_of_numbers)//2\n",
    "        predict = list_of_numbers[middle]\n",
    "\n",
    "        while number != predict:  \n",
    "            count+=1\n",
    "        \n",
    "            if number > predict: \n",
    "                list_of_numbers = list_of_numbers[middle:]\n",
    "        \n",
    "            elif number < predict: \n",
    "                list_of_numbers = list_of_numbers[:middle]\n",
    "        \n",
    "            middle = len(list_of_numbers)//2\n",
    "            predict = list_of_numbers[middle]\n",
    "        \n",
    "        return(count) # выход из цикла, если угадали\n",
    "\n",
    "print(game_core_v20(65))\n",
    "print(game_core_v20(346,100,1000))\n",
    "print(game_core_v20(1001,second_number=500))\n"
   ]
  },
  {
   "cell_type": "code",
   "execution_count": 111,
   "metadata": {},
   "outputs": [
    {
     "name": "stdout",
     "output_type": "stream",
     "text": [
      "Алгоритм v1 угадывает число в среднем за 100 попыток\n",
      "Алгоритм v2 угадывает число в среднем за 33 попыток\n",
      "Алгоритм v20 угадывает число в среднем за 5 попыток\n"
     ]
    },
    {
     "data": {
      "text/plain": [
       "(5, 'v20')"
      ]
     },
     "execution_count": 111,
     "metadata": {},
     "output_type": "execute_result"
    }
   ],
   "source": [
    "score_game(game_core_v1)\n",
    "score_game(game_core_v2)\n",
    "score_game(game_core_v20)"
   ]
  },
  {
   "cell_type": "code",
   "execution_count": 112,
   "metadata": {},
   "outputs": [
    {
     "name": "stdout",
     "output_type": "stream",
     "text": [
      "Алгоритм v1 угадывает число в среднем за 956 попыток\n",
      "Алгоритм v2 угадывает число в среднем за 334 попыток\n",
      "Алгоритм v20 угадывает число в среднем за 8 попыток\n"
     ]
    },
    {
     "data": {
      "text/plain": [
       "(8, 'v20')"
      ]
     },
     "execution_count": 112,
     "metadata": {},
     "output_type": "execute_result"
    }
   ],
   "source": [
    "score_game(game_core_v1,1,1000)\n",
    "score_game(game_core_v2,1,1000)\n",
    "score_game(game_core_v20,1,1000)"
   ]
  },
  {
   "cell_type": "code",
   "execution_count": null,
   "metadata": {},
   "outputs": [],
   "source": []
  }
 ],
 "metadata": {
  "kernelspec": {
   "display_name": "Python 3",
   "language": "python",
   "name": "python3"
  },
  "language_info": {
   "codemirror_mode": {
    "name": "ipython",
    "version": 3
   },
   "file_extension": ".py",
   "mimetype": "text/x-python",
   "name": "python",
   "nbconvert_exporter": "python",
   "pygments_lexer": "ipython3",
   "version": "3.7.6"
  }
 },
 "nbformat": 4,
 "nbformat_minor": 4
}
