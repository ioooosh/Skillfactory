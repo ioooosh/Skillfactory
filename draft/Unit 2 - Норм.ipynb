{
 "cells": [
  {
   "cell_type": "code",
   "execution_count": 18,
   "id": "aa2bfd8f",
   "metadata": {},
   "outputs": [],
   "source": [
    "from scipy.stats import norm\n",
    "from scipy.stats import t\n",
    "import pandas as pd\n",
    "import math\n",
    "import numpy as np\n"
   ]
  },
  {
   "cell_type": "code",
   "execution_count": 5,
   "id": "7b56fdfd",
   "metadata": {},
   "outputs": [
    {
     "data": {
      "text/plain": [
       "0.84"
      ]
     },
     "execution_count": 5,
     "metadata": {},
     "output_type": "execute_result"
    }
   ],
   "source": [
    "round((norm.cdf(1)),2)"
   ]
  },
  {
   "cell_type": "code",
   "execution_count": 6,
   "id": "a4fb1265",
   "metadata": {},
   "outputs": [
    {
     "data": {
      "text/plain": [
       "-1.28"
      ]
     },
     "execution_count": 6,
     "metadata": {},
     "output_type": "execute_result"
    }
   ],
   "source": [
    "round(norm.ppf(0.1),2)"
   ]
  },
  {
   "cell_type": "code",
   "execution_count": 7,
   "id": "c7939bee",
   "metadata": {},
   "outputs": [
    {
     "data": {
      "text/plain": [
       "1.64"
      ]
     },
     "execution_count": 7,
     "metadata": {},
     "output_type": "execute_result"
    }
   ],
   "source": [
    "round(norm.ppf(0.95),2)"
   ]
  },
  {
   "cell_type": "code",
   "execution_count": 8,
   "id": "e9bc6c93",
   "metadata": {},
   "outputs": [
    {
     "data": {
      "text/plain": [
       "-1.96"
      ]
     },
     "execution_count": 8,
     "metadata": {},
     "output_type": "execute_result"
    }
   ],
   "source": [
    "round(norm.ppf(0.025),2)"
   ]
  },
  {
   "cell_type": "code",
   "execution_count": 9,
   "id": "53ba14ff",
   "metadata": {},
   "outputs": [
    {
     "data": {
      "text/plain": [
       "2.33"
      ]
     },
     "execution_count": 9,
     "metadata": {},
     "output_type": "execute_result"
    }
   ],
   "source": [
    "round(norm.ppf(0.99),2)"
   ]
  },
  {
   "cell_type": "code",
   "execution_count": 10,
   "id": "9414ab62",
   "metadata": {},
   "outputs": [
    {
     "data": {
      "text/plain": [
       "-2.58"
      ]
     },
     "execution_count": 10,
     "metadata": {},
     "output_type": "execute_result"
    }
   ],
   "source": [
    "round(norm.ppf(0.005),2)"
   ]
  },
  {
   "cell_type": "code",
   "execution_count": 14,
   "id": "7b10f0e4",
   "metadata": {},
   "outputs": [
    {
     "data": {
      "text/plain": [
       "0.013"
      ]
     },
     "execution_count": 14,
     "metadata": {},
     "output_type": "execute_result"
    }
   ],
   "source": [
    "round(1 - norm.cdf(75,70,5/(5**(1/2))),3)\n"
   ]
  },
  {
   "cell_type": "code",
   "execution_count": 16,
   "id": "7df7c039",
   "metadata": {},
   "outputs": [
    {
     "data": {
      "text/plain": [
       "0.067"
      ]
     },
     "execution_count": 16,
     "metadata": {},
     "output_type": "execute_result"
    }
   ],
   "source": [
    "round(norm.cdf(0.16,0.2,(0.4/15)),3)"
   ]
  },
  {
   "cell_type": "code",
   "execution_count": 19,
   "id": "846cd7f2",
   "metadata": {},
   "outputs": [
    {
     "data": {
      "text/html": [
       "<div>\n",
       "<style scoped>\n",
       "    .dataframe tbody tr th:only-of-type {\n",
       "        vertical-align: middle;\n",
       "    }\n",
       "\n",
       "    .dataframe tbody tr th {\n",
       "        vertical-align: top;\n",
       "    }\n",
       "\n",
       "    .dataframe thead th {\n",
       "        text-align: right;\n",
       "    }\n",
       "</style>\n",
       "<table border=\"1\" class=\"dataframe\">\n",
       "  <thead>\n",
       "    <tr style=\"text-align: right;\">\n",
       "      <th></th>\n",
       "      <th>books</th>\n",
       "      <th>p</th>\n",
       "    </tr>\n",
       "  </thead>\n",
       "  <tbody>\n",
       "    <tr>\n",
       "      <th>0</th>\n",
       "      <td>1</td>\n",
       "      <td>0.3</td>\n",
       "    </tr>\n",
       "    <tr>\n",
       "      <th>1</th>\n",
       "      <td>2</td>\n",
       "      <td>0.4</td>\n",
       "    </tr>\n",
       "    <tr>\n",
       "      <th>2</th>\n",
       "      <td>3</td>\n",
       "      <td>0.3</td>\n",
       "    </tr>\n",
       "  </tbody>\n",
       "</table>\n",
       "</div>"
      ],
      "text/plain": [
       "   books    p\n",
       "0      1  0.3\n",
       "1      2  0.4\n",
       "2      3  0.3"
      ]
     },
     "execution_count": 19,
     "metadata": {},
     "output_type": "execute_result"
    }
   ],
   "source": [
    "df = pd.DataFrame({'books':[1,2,3],'p':[0.3,0.4,0.3]})\n",
    "\n",
    "df"
   ]
  },
  {
   "cell_type": "code",
   "execution_count": 20,
   "id": "9069c1df",
   "metadata": {},
   "outputs": [
    {
     "data": {
      "text/plain": [
       "2.0"
      ]
     },
     "execution_count": 20,
     "metadata": {},
     "output_type": "execute_result"
    }
   ],
   "source": [
    "E_x_books = 1*0.3 + 2*0.4 + 3*0.3\n",
    "\n",
    "E_x_books"
   ]
  },
  {
   "cell_type": "code",
   "execution_count": 22,
   "id": "751b1eba",
   "metadata": {},
   "outputs": [
    {
     "data": {
      "text/html": [
       "<div>\n",
       "<style scoped>\n",
       "    .dataframe tbody tr th:only-of-type {\n",
       "        vertical-align: middle;\n",
       "    }\n",
       "\n",
       "    .dataframe tbody tr th {\n",
       "        vertical-align: top;\n",
       "    }\n",
       "\n",
       "    .dataframe thead th {\n",
       "        text-align: right;\n",
       "    }\n",
       "</style>\n",
       "<table border=\"1\" class=\"dataframe\">\n",
       "  <thead>\n",
       "    <tr style=\"text-align: right;\">\n",
       "      <th></th>\n",
       "      <th>x</th>\n",
       "      <th>p</th>\n",
       "    </tr>\n",
       "  </thead>\n",
       "  <tbody>\n",
       "    <tr>\n",
       "      <th>0</th>\n",
       "      <td>2</td>\n",
       "      <td>0.1</td>\n",
       "    </tr>\n",
       "    <tr>\n",
       "      <th>1</th>\n",
       "      <td>3</td>\n",
       "      <td>0.2</td>\n",
       "    </tr>\n",
       "    <tr>\n",
       "      <th>2</th>\n",
       "      <td>4</td>\n",
       "      <td>0.6</td>\n",
       "    </tr>\n",
       "    <tr>\n",
       "      <th>3</th>\n",
       "      <td>5</td>\n",
       "      <td>0.1</td>\n",
       "    </tr>\n",
       "  </tbody>\n",
       "</table>\n",
       "</div>"
      ],
      "text/plain": [
       "   x    p\n",
       "0  2  0.1\n",
       "1  3  0.2\n",
       "2  4  0.6\n",
       "3  5  0.1"
      ]
     },
     "execution_count": 22,
     "metadata": {},
     "output_type": "execute_result"
    }
   ],
   "source": [
    "df_X = pd.DataFrame({'x':[2,3,4,5],'p':[0.1,0.2,0.6,0.1]})\n",
    "\n",
    "df_X"
   ]
  },
  {
   "cell_type": "code",
   "execution_count": 24,
   "id": "9c7c2d5d",
   "metadata": {},
   "outputs": [
    {
     "data": {
      "text/plain": [
       "3.7"
      ]
     },
     "execution_count": 24,
     "metadata": {},
     "output_type": "execute_result"
    }
   ],
   "source": [
    "E = 2*0.1 + 3*0.2 + 4*0.6 + 5*0.1 \n",
    "\n",
    "E"
   ]
  },
  {
   "cell_type": "code",
   "execution_count": 25,
   "id": "220f47a2",
   "metadata": {},
   "outputs": [
    {
     "data": {
      "text/plain": [
       "14.3"
      ]
     },
     "execution_count": 25,
     "metadata": {},
     "output_type": "execute_result"
    }
   ],
   "source": [
    "E_x2 = 4*0.1 + 9*0.2 + 16*0.6 + 25*0.1\n",
    "\n",
    "E_x2"
   ]
  },
  {
   "cell_type": "code",
   "execution_count": 27,
   "id": "38dba97b",
   "metadata": {},
   "outputs": [
    {
     "data": {
      "text/plain": [
       "0.16"
      ]
     },
     "execution_count": 27,
     "metadata": {},
     "output_type": "execute_result"
    }
   ],
   "source": [
    "round(1 - norm.cdf(820,700,120),2)"
   ]
  },
  {
   "cell_type": "code",
   "execution_count": 28,
   "id": "c429fba0",
   "metadata": {},
   "outputs": [
    {
     "data": {
      "text/plain": [
       "0.24"
      ]
     },
     "execution_count": 28,
     "metadata": {},
     "output_type": "execute_result"
    }
   ],
   "source": [
    "round((norm.cdf(820,700,120) - norm.cdf(730,700,120)),2)"
   ]
  },
  {
   "cell_type": "code",
   "execution_count": 30,
   "id": "ae08d933",
   "metadata": {},
   "outputs": [
    {
     "data": {
      "text/plain": [
       "502.62"
      ]
     },
     "execution_count": 30,
     "metadata": {},
     "output_type": "execute_result"
    }
   ],
   "source": [
    "round(norm.ppf(0.05,700,120),2)"
   ]
  },
  {
   "cell_type": "markdown",
   "id": "c9aef313",
   "metadata": {},
   "source": [
    "Для случая с неизвестным  предел погрешности"
   ]
  },
  {
   "cell_type": "code",
   "execution_count": 13,
   "id": "291defd1",
   "metadata": {},
   "outputs": [],
   "source": [
    "def confidence_interval_t(alpha, s, n, mean):\n",
    "    value = -t.ppf(alpha / 2, n - 1) * s / math.sqrt(n)\n",
    "    return mean - value, mean + value"
   ]
  },
  {
   "cell_type": "code",
   "execution_count": 15,
   "id": "1f1b86da",
   "metadata": {},
   "outputs": [
    {
     "data": {
      "text/plain": [
       "-2.1447866879169277"
      ]
     },
     "execution_count": 15,
     "metadata": {},
     "output_type": "execute_result"
    }
   ],
   "source": [
    "t.ppf(0.05 / 2, 14)"
   ]
  },
  {
   "cell_type": "code",
   "execution_count": 11,
   "id": "bd1d53b6",
   "metadata": {},
   "outputs": [
    {
     "data": {
      "text/plain": [
       "(1692.553004440083, 2307.446995559917)"
      ]
     },
     "execution_count": 11,
     "metadata": {},
     "output_type": "execute_result"
    }
   ],
   "source": [
    "confidence_interval_t(0.01,400,15,2000)"
   ]
  },
  {
   "cell_type": "markdown",
   "id": "c15cf97c",
   "metadata": {},
   "source": [
    "Для случая с известным  предел погрешности"
   ]
  },
  {
   "cell_type": "code",
   "execution_count": 12,
   "id": "4c1a665b",
   "metadata": {},
   "outputs": [],
   "source": [
    "def confidence_interval_norm(alpha, sigma, n, mean):\n",
    "    value = -norm.ppf(alpha / 2) * sigma / math.sqrt(n)\n",
    "    return mean - value, mean + value"
   ]
  },
  {
   "cell_type": "code",
   "execution_count": 16,
   "id": "d4187606",
   "metadata": {},
   "outputs": [
    {
     "data": {
      "text/plain": [
       "(3352.6537883505453, 3727.3462116494547)"
      ]
     },
     "execution_count": 16,
     "metadata": {},
     "output_type": "execute_result"
    }
   ],
   "source": [
    "confidence_interval_norm(0.01,1150,250,3540)"
   ]
  },
  {
   "cell_type": "code",
   "execution_count": 17,
   "id": "f9be5df8",
   "metadata": {},
   "outputs": [],
   "source": [
    "x = [1.2,0.2,1.6,1.9,-0.4,0.5,1.4,1.7,2.5,1.3]"
   ]
  },
  {
   "cell_type": "code",
   "execution_count": 33,
   "id": "86b2a57a",
   "metadata": {},
   "outputs": [
    {
     "data": {
      "text/plain": [
       "0.8178630692236935"
      ]
     },
     "execution_count": 33,
     "metadata": {},
     "output_type": "execute_result"
    }
   ],
   "source": [
    "np.std(x)"
   ]
  },
  {
   "cell_type": "code",
   "execution_count": 21,
   "id": "39c9e415",
   "metadata": {},
   "outputs": [
    {
     "data": {
      "text/plain": [
       "10"
      ]
     },
     "execution_count": 21,
     "metadata": {},
     "output_type": "execute_result"
    }
   ],
   "source": [
    "len(x)"
   ]
  },
  {
   "cell_type": "code",
   "execution_count": 34,
   "id": "5bd7886e",
   "metadata": {},
   "outputs": [
    {
     "data": {
      "text/plain": [
       "array([[0.57],\n",
       "       [1.81]])"
      ]
     },
     "execution_count": 34,
     "metadata": {},
     "output_type": "execute_result"
    }
   ],
   "source": [
    "np.round(confidence_interval_t(0.05,pd.DataFrame(x).std(),len(x),pd.DataFrame(x).mean()),2)"
   ]
  },
  {
   "cell_type": "code",
   "execution_count": 23,
   "id": "45b176ce",
   "metadata": {},
   "outputs": [],
   "source": [
    "x.sort()"
   ]
  },
  {
   "cell_type": "code",
   "execution_count": 24,
   "id": "cfa31bd6",
   "metadata": {},
   "outputs": [
    {
     "data": {
      "text/plain": [
       "[-0.4, 0.2, 0.5, 1.2, 1.3, 1.4, 1.6, 1.7, 1.9, 2.5]"
      ]
     },
     "execution_count": 24,
     "metadata": {},
     "output_type": "execute_result"
    }
   ],
   "source": [
    "x"
   ]
  },
  {
   "cell_type": "code",
   "execution_count": 32,
   "id": "02eca0fa",
   "metadata": {},
   "outputs": [
    {
     "data": {
      "text/plain": [
       "0    0.862103\n",
       "dtype: float64"
      ]
     },
     "execution_count": 32,
     "metadata": {},
     "output_type": "execute_result"
    }
   ],
   "source": [
    "pd.DataFrame(x).std()"
   ]
  },
  {
   "cell_type": "code",
   "execution_count": 35,
   "id": "7d0f8951",
   "metadata": {},
   "outputs": [
    {
     "data": {
      "text/plain": [
       "0.8621033709609436"
      ]
     },
     "execution_count": 35,
     "metadata": {},
     "output_type": "execute_result"
    }
   ],
   "source": [
    "np.std(x,ddof=1)"
   ]
  },
  {
   "cell_type": "markdown",
   "id": "2c7a2926",
   "metadata": {},
   "source": [
    "Функция для расчтёта доверительного интервала истинной пропорции по выборочной"
   ]
  },
  {
   "cell_type": "code",
   "execution_count": 52,
   "id": "a09ae911",
   "metadata": {},
   "outputs": [],
   "source": [
    "def confidence_interval_norm_p(alpha, n, p):\n",
    "    value = -norm.ppf(alpha / 2)* math.sqrt(p*(1-p)/n)\n",
    "    return p - value, p + value"
   ]
  },
  {
   "cell_type": "code",
   "execution_count": 53,
   "id": "50b2a332",
   "metadata": {},
   "outputs": [],
   "source": [
    "p1 = round(132/189,3)"
   ]
  },
  {
   "cell_type": "code",
   "execution_count": 54,
   "id": "4b295296",
   "metadata": {},
   "outputs": [
    {
     "data": {
      "text/plain": [
       "0.698"
      ]
     },
     "execution_count": 54,
     "metadata": {},
     "output_type": "execute_result"
    }
   ],
   "source": [
    "p1"
   ]
  },
  {
   "cell_type": "code",
   "execution_count": 57,
   "id": "7720e7c8",
   "metadata": {},
   "outputs": [
    {
     "data": {
      "text/plain": [
       "array([0.643, 0.753])"
      ]
     },
     "execution_count": 57,
     "metadata": {},
     "output_type": "execute_result"
    }
   ],
   "source": [
    "np.round(confidence_interval_norm_p(0.1,189,p1),3)"
   ]
  },
  {
   "cell_type": "code",
   "execution_count": 59,
   "id": "118e9463",
   "metadata": {},
   "outputs": [
    {
     "data": {
      "text/plain": [
       "-3.169272667175838"
      ]
     },
     "execution_count": 59,
     "metadata": {},
     "output_type": "execute_result"
    }
   ],
   "source": [
    "t.ppf(0.01/2,10)"
   ]
  },
  {
   "cell_type": "code",
   "execution_count": 60,
   "id": "e433f5b6",
   "metadata": {},
   "outputs": [
    {
     "data": {
      "text/plain": [
       "3.169272667175838"
      ]
     },
     "execution_count": 60,
     "metadata": {},
     "output_type": "execute_result"
    }
   ],
   "source": [
    "t.ppf((1+0.99)/2,10)"
   ]
  },
  {
   "cell_type": "code",
   "execution_count": 66,
   "id": "45d80a5c",
   "metadata": {},
   "outputs": [
    {
     "data": {
      "text/plain": [
       "1.8119106729525978"
      ]
     },
     "execution_count": 66,
     "metadata": {},
     "output_type": "execute_result"
    }
   ],
   "source": [
    "-norm.ppf(0.07/2)"
   ]
  },
  {
   "cell_type": "code",
   "execution_count": 67,
   "id": "f94179b0",
   "metadata": {},
   "outputs": [
    {
     "data": {
      "text/plain": [
       "2.575829303548901"
      ]
     },
     "execution_count": 67,
     "metadata": {},
     "output_type": "execute_result"
    }
   ],
   "source": [
    "-norm.ppf(0.01/2)"
   ]
  },
  {
   "cell_type": "code",
   "execution_count": 72,
   "id": "589f4a9a",
   "metadata": {},
   "outputs": [
    {
     "data": {
      "text/plain": [
       "3.25"
      ]
     },
     "execution_count": 72,
     "metadata": {},
     "output_type": "execute_result"
    }
   ],
   "source": [
    "round(-t.ppf(0.01/2,10-1),2)"
   ]
  },
  {
   "cell_type": "code",
   "execution_count": 71,
   "id": "b4bb6303",
   "metadata": {},
   "outputs": [
    {
     "data": {
      "text/plain": [
       "1.98"
      ]
     },
     "execution_count": 71,
     "metadata": {},
     "output_type": "execute_result"
    }
   ],
   "source": [
    "round(-t.ppf(0.05/2,100),2)"
   ]
  },
  {
   "cell_type": "code",
   "execution_count": 76,
   "id": "8f942395",
   "metadata": {},
   "outputs": [
    {
     "data": {
      "text/plain": [
       "-1.96"
      ]
     },
     "execution_count": 76,
     "metadata": {},
     "output_type": "execute_result"
    }
   ],
   "source": [
    "round(norm.ppf(0.05/2),2)"
   ]
  },
  {
   "cell_type": "code",
   "execution_count": 77,
   "id": "97563608",
   "metadata": {},
   "outputs": [
    {
     "data": {
      "text/plain": [
       "0.023"
      ]
     },
     "execution_count": 77,
     "metadata": {},
     "output_type": "execute_result"
    }
   ],
   "source": [
    "round(norm.cdf(-2),3)"
   ]
  },
  {
   "cell_type": "code",
   "execution_count": 79,
   "id": "04388390",
   "metadata": {},
   "outputs": [
    {
     "data": {
      "text/plain": [
       "0.055"
      ]
     },
     "execution_count": 79,
     "metadata": {},
     "output_type": "execute_result"
    }
   ],
   "source": [
    "round(2*norm.cdf(-1.92),3)"
   ]
  },
  {
   "cell_type": "code",
   "execution_count": 80,
   "id": "b3d95578",
   "metadata": {},
   "outputs": [
    {
     "data": {
      "text/plain": [
       "0.027"
      ]
     },
     "execution_count": 80,
     "metadata": {},
     "output_type": "execute_result"
    }
   ],
   "source": [
    "round(norm.cdf(-1.92),3)"
   ]
  },
  {
   "cell_type": "code",
   "execution_count": 103,
   "id": "318e1abb",
   "metadata": {},
   "outputs": [
    {
     "data": {
      "text/plain": [
       "1.7857142857142858"
      ]
     },
     "execution_count": 103,
     "metadata": {},
     "output_type": "execute_result"
    }
   ],
   "source": [
    "z_st=(7-6.5)/(1.4/5)\n",
    "\n",
    "z_st"
   ]
  },
  {
   "cell_type": "code",
   "execution_count": 105,
   "id": "6b593dbf",
   "metadata": {},
   "outputs": [
    {
     "data": {
      "text/plain": [
       "0.037"
      ]
     },
     "execution_count": 105,
     "metadata": {},
     "output_type": "execute_result"
    }
   ],
   "source": [
    "round(norm.cdf(-z_st),3)"
   ]
  },
  {
   "cell_type": "code",
   "execution_count": 102,
   "id": "cfc05f14",
   "metadata": {},
   "outputs": [
    {
     "data": {
      "text/plain": [
       "1.6448536269514729"
      ]
     },
     "execution_count": 102,
     "metadata": {},
     "output_type": "execute_result"
    }
   ],
   "source": [
    "-norm.ppf(0.05)"
   ]
  },
  {
   "cell_type": "code",
   "execution_count": 109,
   "id": "8aa94354",
   "metadata": {},
   "outputs": [
    {
     "data": {
      "text/plain": [
       "-1.137"
      ]
     },
     "execution_count": 109,
     "metadata": {},
     "output_type": "execute_result"
    }
   ],
   "source": [
    "t_st = -500/(5110/math.sqrt(135))\n",
    "\n",
    "round(t_st,3)"
   ]
  },
  {
   "cell_type": "code",
   "execution_count": 110,
   "id": "abfe7010",
   "metadata": {},
   "outputs": [
    {
     "data": {
      "text/plain": [
       "0.129"
      ]
     },
     "execution_count": 110,
     "metadata": {},
     "output_type": "execute_result"
    }
   ],
   "source": [
    "round(t.cdf(t_st,134),3)"
   ]
  },
  {
   "cell_type": "code",
   "execution_count": 113,
   "id": "db5b4c0e",
   "metadata": {},
   "outputs": [],
   "source": [
    "percent = [6.1,9.2,11.5,8.6,12.1,3.9,8.4,10.1,9.4,8.9]\n",
    "\n",
    "percent_mean = np.mean(percent)\n",
    "percent_std = np.std(percent,ddof=1)"
   ]
  },
  {
   "cell_type": "code",
   "execution_count": 115,
   "id": "094aee21",
   "metadata": {},
   "outputs": [
    {
     "data": {
      "text/plain": [
       "-1.5539474193444394"
      ]
     },
     "execution_count": 115,
     "metadata": {},
     "output_type": "execute_result"
    }
   ],
   "source": [
    "t_st_for_percent = (percent_mean - 10)/(percent_std/math.sqrt(len(percent)))\n",
    "t_st_for_percent"
   ]
  },
  {
   "cell_type": "code",
   "execution_count": 117,
   "id": "06bb56e9",
   "metadata": {},
   "outputs": [
    {
     "data": {
      "text/plain": [
       "0.07730839448896329"
      ]
     },
     "execution_count": 117,
     "metadata": {},
     "output_type": "execute_result"
    }
   ],
   "source": [
    "p_value_for_percent = t.cdf(t_st_for_percent,len(percent)-1)\n",
    "\n",
    "p_value_for_percent"
   ]
  },
  {
   "cell_type": "code",
   "execution_count": 118,
   "id": "f2bb974c",
   "metadata": {},
   "outputs": [
    {
     "data": {
      "text/plain": [
       "1.996150140799881"
      ]
     },
     "execution_count": 118,
     "metadata": {},
     "output_type": "execute_result"
    }
   ],
   "source": [
    "z_st_illness = (0.42-0.35)/math.sqrt(0.35*(1-0.35)/185)\n",
    "\n",
    "z_st_illness"
   ]
  },
  {
   "cell_type": "code",
   "execution_count": 119,
   "id": "3b2f0594",
   "metadata": {},
   "outputs": [
    {
     "data": {
      "text/plain": [
       "0.022958791331259297"
      ]
     },
     "execution_count": 119,
     "metadata": {},
     "output_type": "execute_result"
    }
   ],
   "source": [
    "norm.cdf(-z_st_illness)"
   ]
  },
  {
   "cell_type": "code",
   "execution_count": 120,
   "id": "8b9e721f",
   "metadata": {},
   "outputs": [
    {
     "data": {
      "text/plain": [
       "0.696"
      ]
     },
     "execution_count": 120,
     "metadata": {},
     "output_type": "execute_result"
    }
   ],
   "source": [
    "p_survey = 87/125\n",
    "\n",
    "p_survey"
   ]
  },
  {
   "cell_type": "code",
   "execution_count": 121,
   "id": "9022bf05",
   "metadata": {},
   "outputs": [
    {
     "data": {
      "text/plain": [
       "87.0"
      ]
     },
     "execution_count": 121,
     "metadata": {},
     "output_type": "execute_result"
    }
   ],
   "source": [
    "125*p_survey"
   ]
  },
  {
   "cell_type": "code",
   "execution_count": 122,
   "id": "779a9496",
   "metadata": {},
   "outputs": [
    {
     "data": {
      "text/plain": [
       "38.00000000000001"
      ]
     },
     "execution_count": 122,
     "metadata": {},
     "output_type": "execute_result"
    }
   ],
   "source": [
    "125*(1-p_survey)"
   ]
  },
  {
   "cell_type": "code",
   "execution_count": 125,
   "id": "4c4620a2",
   "metadata": {},
   "outputs": [
    {
     "data": {
      "text/plain": [
       "-1.394"
      ]
     },
     "execution_count": 125,
     "metadata": {},
     "output_type": "execute_result"
    }
   ],
   "source": [
    "z_st_survey = (p_survey - 0.75)/math.sqrt(0.75*(1-0.75)/125)\n",
    "\n",
    "round(z_st_survey,3)"
   ]
  },
  {
   "cell_type": "code",
   "execution_count": 124,
   "id": "4d5842a0",
   "metadata": {},
   "outputs": [
    {
     "data": {
      "text/plain": [
       "0.082"
      ]
     },
     "execution_count": 124,
     "metadata": {},
     "output_type": "execute_result"
    }
   ],
   "source": [
    "p_value_for_survey = norm.cdf(z_st_survey)\n",
    "\n",
    "round(p_value_for_survey,3)"
   ]
  },
  {
   "cell_type": "code",
   "execution_count": null,
   "id": "e0c25a6e",
   "metadata": {},
   "outputs": [],
   "source": []
  }
 ],
 "metadata": {
  "kernelspec": {
   "display_name": "Python 3",
   "language": "python",
   "name": "python3"
  },
  "language_info": {
   "codemirror_mode": {
    "name": "ipython",
    "version": 3
   },
   "file_extension": ".py",
   "mimetype": "text/x-python",
   "name": "python",
   "nbconvert_exporter": "python",
   "pygments_lexer": "ipython3",
   "version": "3.8.8"
  }
 },
 "nbformat": 4,
 "nbformat_minor": 5
}
