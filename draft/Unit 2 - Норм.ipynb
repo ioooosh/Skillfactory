{
 "cells": [
  {
   "cell_type": "code",
   "execution_count": 18,
   "id": "aa2bfd8f",
   "metadata": {},
   "outputs": [],
   "source": [
    "from scipy.stats import norm\n",
    "from scipy.stats import t\n",
    "import pandas as pd\n",
    "import math\n",
    "import numpy as np\n"
   ]
  },
  {
   "cell_type": "code",
   "execution_count": 5,
   "id": "7b56fdfd",
   "metadata": {},
   "outputs": [
    {
     "data": {
      "text/plain": [
       "0.84"
      ]
     },
     "execution_count": 5,
     "metadata": {},
     "output_type": "execute_result"
    }
   ],
   "source": [
    "round((norm.cdf(1)),2)"
   ]
  },
  {
   "cell_type": "code",
   "execution_count": 6,
   "id": "a4fb1265",
   "metadata": {},
   "outputs": [
    {
     "data": {
      "text/plain": [
       "-1.28"
      ]
     },
     "execution_count": 6,
     "metadata": {},
     "output_type": "execute_result"
    }
   ],
   "source": [
    "round(norm.ppf(0.1),2)"
   ]
  },
  {
   "cell_type": "code",
   "execution_count": 7,
   "id": "c7939bee",
   "metadata": {},
   "outputs": [
    {
     "data": {
      "text/plain": [
       "1.64"
      ]
     },
     "execution_count": 7,
     "metadata": {},
     "output_type": "execute_result"
    }
   ],
   "source": [
    "round(norm.ppf(0.95),2)"
   ]
  },
  {
   "cell_type": "code",
   "execution_count": 8,
   "id": "e9bc6c93",
   "metadata": {},
   "outputs": [
    {
     "data": {
      "text/plain": [
       "-1.96"
      ]
     },
     "execution_count": 8,
     "metadata": {},
     "output_type": "execute_result"
    }
   ],
   "source": [
    "round(norm.ppf(0.025),2)"
   ]
  },
  {
   "cell_type": "code",
   "execution_count": 9,
   "id": "53ba14ff",
   "metadata": {},
   "outputs": [
    {
     "data": {
      "text/plain": [
       "2.33"
      ]
     },
     "execution_count": 9,
     "metadata": {},
     "output_type": "execute_result"
    }
   ],
   "source": [
    "round(norm.ppf(0.99),2)"
   ]
  },
  {
   "cell_type": "code",
   "execution_count": 10,
   "id": "9414ab62",
   "metadata": {},
   "outputs": [
    {
     "data": {
      "text/plain": [
       "-2.58"
      ]
     },
     "execution_count": 10,
     "metadata": {},
     "output_type": "execute_result"
    }
   ],
   "source": [
    "round(norm.ppf(0.005),2)"
   ]
  },
  {
   "cell_type": "code",
   "execution_count": 14,
   "id": "7b10f0e4",
   "metadata": {},
   "outputs": [
    {
     "data": {
      "text/plain": [
       "0.013"
      ]
     },
     "execution_count": 14,
     "metadata": {},
     "output_type": "execute_result"
    }
   ],
   "source": [
    "round(1 - norm.cdf(75,70,5/(5**(1/2))),3)\n"
   ]
  },
  {
   "cell_type": "code",
   "execution_count": 16,
   "id": "7df7c039",
   "metadata": {},
   "outputs": [
    {
     "data": {
      "text/plain": [
       "0.067"
      ]
     },
     "execution_count": 16,
     "metadata": {},
     "output_type": "execute_result"
    }
   ],
   "source": [
    "round(norm.cdf(0.16,0.2,(0.4/15)),3)"
   ]
  },
  {
   "cell_type": "code",
   "execution_count": 19,
   "id": "846cd7f2",
   "metadata": {},
   "outputs": [
    {
     "data": {
      "text/html": [
       "<div>\n",
       "<style scoped>\n",
       "    .dataframe tbody tr th:only-of-type {\n",
       "        vertical-align: middle;\n",
       "    }\n",
       "\n",
       "    .dataframe tbody tr th {\n",
       "        vertical-align: top;\n",
       "    }\n",
       "\n",
       "    .dataframe thead th {\n",
       "        text-align: right;\n",
       "    }\n",
       "</style>\n",
       "<table border=\"1\" class=\"dataframe\">\n",
       "  <thead>\n",
       "    <tr style=\"text-align: right;\">\n",
       "      <th></th>\n",
       "      <th>books</th>\n",
       "      <th>p</th>\n",
       "    </tr>\n",
       "  </thead>\n",
       "  <tbody>\n",
       "    <tr>\n",
       "      <th>0</th>\n",
       "      <td>1</td>\n",
       "      <td>0.3</td>\n",
       "    </tr>\n",
       "    <tr>\n",
       "      <th>1</th>\n",
       "      <td>2</td>\n",
       "      <td>0.4</td>\n",
       "    </tr>\n",
       "    <tr>\n",
       "      <th>2</th>\n",
       "      <td>3</td>\n",
       "      <td>0.3</td>\n",
       "    </tr>\n",
       "  </tbody>\n",
       "</table>\n",
       "</div>"
      ],
      "text/plain": [
       "   books    p\n",
       "0      1  0.3\n",
       "1      2  0.4\n",
       "2      3  0.3"
      ]
     },
     "execution_count": 19,
     "metadata": {},
     "output_type": "execute_result"
    }
   ],
   "source": [
    "df = pd.DataFrame({'books':[1,2,3],'p':[0.3,0.4,0.3]})\n",
    "\n",
    "df"
   ]
  },
  {
   "cell_type": "code",
   "execution_count": 20,
   "id": "9069c1df",
   "metadata": {},
   "outputs": [
    {
     "data": {
      "text/plain": [
       "2.0"
      ]
     },
     "execution_count": 20,
     "metadata": {},
     "output_type": "execute_result"
    }
   ],
   "source": [
    "E_x_books = 1*0.3 + 2*0.4 + 3*0.3\n",
    "\n",
    "E_x_books"
   ]
  },
  {
   "cell_type": "code",
   "execution_count": 22,
   "id": "751b1eba",
   "metadata": {},
   "outputs": [
    {
     "data": {
      "text/html": [
       "<div>\n",
       "<style scoped>\n",
       "    .dataframe tbody tr th:only-of-type {\n",
       "        vertical-align: middle;\n",
       "    }\n",
       "\n",
       "    .dataframe tbody tr th {\n",
       "        vertical-align: top;\n",
       "    }\n",
       "\n",
       "    .dataframe thead th {\n",
       "        text-align: right;\n",
       "    }\n",
       "</style>\n",
       "<table border=\"1\" class=\"dataframe\">\n",
       "  <thead>\n",
       "    <tr style=\"text-align: right;\">\n",
       "      <th></th>\n",
       "      <th>x</th>\n",
       "      <th>p</th>\n",
       "    </tr>\n",
       "  </thead>\n",
       "  <tbody>\n",
       "    <tr>\n",
       "      <th>0</th>\n",
       "      <td>2</td>\n",
       "      <td>0.1</td>\n",
       "    </tr>\n",
       "    <tr>\n",
       "      <th>1</th>\n",
       "      <td>3</td>\n",
       "      <td>0.2</td>\n",
       "    </tr>\n",
       "    <tr>\n",
       "      <th>2</th>\n",
       "      <td>4</td>\n",
       "      <td>0.6</td>\n",
       "    </tr>\n",
       "    <tr>\n",
       "      <th>3</th>\n",
       "      <td>5</td>\n",
       "      <td>0.1</td>\n",
       "    </tr>\n",
       "  </tbody>\n",
       "</table>\n",
       "</div>"
      ],
      "text/plain": [
       "   x    p\n",
       "0  2  0.1\n",
       "1  3  0.2\n",
       "2  4  0.6\n",
       "3  5  0.1"
      ]
     },
     "execution_count": 22,
     "metadata": {},
     "output_type": "execute_result"
    }
   ],
   "source": [
    "df_X = pd.DataFrame({'x':[2,3,4,5],'p':[0.1,0.2,0.6,0.1]})\n",
    "\n",
    "df_X"
   ]
  },
  {
   "cell_type": "code",
   "execution_count": 24,
   "id": "9c7c2d5d",
   "metadata": {},
   "outputs": [
    {
     "data": {
      "text/plain": [
       "3.7"
      ]
     },
     "execution_count": 24,
     "metadata": {},
     "output_type": "execute_result"
    }
   ],
   "source": [
    "E = 2*0.1 + 3*0.2 + 4*0.6 + 5*0.1 \n",
    "\n",
    "E"
   ]
  },
  {
   "cell_type": "code",
   "execution_count": 25,
   "id": "220f47a2",
   "metadata": {},
   "outputs": [
    {
     "data": {
      "text/plain": [
       "14.3"
      ]
     },
     "execution_count": 25,
     "metadata": {},
     "output_type": "execute_result"
    }
   ],
   "source": [
    "E_x2 = 4*0.1 + 9*0.2 + 16*0.6 + 25*0.1\n",
    "\n",
    "E_x2"
   ]
  },
  {
   "cell_type": "code",
   "execution_count": 27,
   "id": "38dba97b",
   "metadata": {},
   "outputs": [
    {
     "data": {
      "text/plain": [
       "0.16"
      ]
     },
     "execution_count": 27,
     "metadata": {},
     "output_type": "execute_result"
    }
   ],
   "source": [
    "round(1 - norm.cdf(820,700,120),2)"
   ]
  },
  {
   "cell_type": "code",
   "execution_count": 28,
   "id": "c429fba0",
   "metadata": {},
   "outputs": [
    {
     "data": {
      "text/plain": [
       "0.24"
      ]
     },
     "execution_count": 28,
     "metadata": {},
     "output_type": "execute_result"
    }
   ],
   "source": [
    "round((norm.cdf(820,700,120) - norm.cdf(730,700,120)),2)"
   ]
  },
  {
   "cell_type": "code",
   "execution_count": 30,
   "id": "ae08d933",
   "metadata": {},
   "outputs": [
    {
     "data": {
      "text/plain": [
       "502.62"
      ]
     },
     "execution_count": 30,
     "metadata": {},
     "output_type": "execute_result"
    }
   ],
   "source": [
    "round(norm.ppf(0.05,700,120),2)"
   ]
  },
  {
   "cell_type": "markdown",
   "id": "196430c3",
   "metadata": {},
   "source": [
    "Для случая с неизвестным  предел погрешности"
   ]
  },
  {
   "cell_type": "code",
   "execution_count": 13,
   "id": "0b6279e0",
   "metadata": {},
   "outputs": [],
   "source": [
    "def confidence_interval_t(alpha, s, n, mean):\n",
    "    value = -t.ppf(alpha / 2, n - 1) * s / math.sqrt(n)\n",
    "    return mean - value, mean + value"
   ]
  },
  {
   "cell_type": "code",
   "execution_count": 15,
   "id": "b49cb6c9",
   "metadata": {},
   "outputs": [
    {
     "data": {
      "text/plain": [
       "-2.1447866879169277"
      ]
     },
     "execution_count": 15,
     "metadata": {},
     "output_type": "execute_result"
    }
   ],
   "source": [
    "t.ppf(0.05 / 2, 14)"
   ]
  },
  {
   "cell_type": "code",
   "execution_count": 11,
   "id": "2ebd7691",
   "metadata": {},
   "outputs": [
    {
     "data": {
      "text/plain": [
       "(1692.553004440083, 2307.446995559917)"
      ]
     },
     "execution_count": 11,
     "metadata": {},
     "output_type": "execute_result"
    }
   ],
   "source": [
    "confidence_interval_t(0.01,400,15,2000)"
   ]
  },
  {
   "cell_type": "markdown",
   "id": "3bd21f3f",
   "metadata": {},
   "source": [
    "Для случая с известным  предел погрешности"
   ]
  },
  {
   "cell_type": "code",
   "execution_count": 12,
   "id": "5ba59712",
   "metadata": {},
   "outputs": [],
   "source": [
    "def confidence_interval_norm(alpha, sigma, n, mean):\n",
    "    value = -norm.ppf(alpha / 2) * sigma / math.sqrt(n)\n",
    "    return mean - value, mean + value"
   ]
  },
  {
   "cell_type": "code",
   "execution_count": 16,
   "id": "539d66dd",
   "metadata": {},
   "outputs": [
    {
     "data": {
      "text/plain": [
       "(3352.6537883505453, 3727.3462116494547)"
      ]
     },
     "execution_count": 16,
     "metadata": {},
     "output_type": "execute_result"
    }
   ],
   "source": [
    "confidence_interval_norm(0.01,1150,250,3540)"
   ]
  },
  {
   "cell_type": "code",
   "execution_count": 17,
   "id": "674c885a",
   "metadata": {},
   "outputs": [],
   "source": [
    "x = [1.2,0.2,1.6,1.9,-0.4,0.5,1.4,1.7,2.5,1.3]"
   ]
  },
  {
   "cell_type": "code",
   "execution_count": 33,
   "id": "c68da5fd",
   "metadata": {},
   "outputs": [
    {
     "data": {
      "text/plain": [
       "0.8178630692236935"
      ]
     },
     "execution_count": 33,
     "metadata": {},
     "output_type": "execute_result"
    }
   ],
   "source": [
    "np.std(x)"
   ]
  },
  {
   "cell_type": "code",
   "execution_count": 21,
   "id": "d79d320e",
   "metadata": {},
   "outputs": [
    {
     "data": {
      "text/plain": [
       "10"
      ]
     },
     "execution_count": 21,
     "metadata": {},
     "output_type": "execute_result"
    }
   ],
   "source": [
    "len(x)"
   ]
  },
  {
   "cell_type": "code",
   "execution_count": 34,
   "id": "2c6a4b76",
   "metadata": {},
   "outputs": [
    {
     "data": {
      "text/plain": [
       "array([[0.57],\n",
       "       [1.81]])"
      ]
     },
     "execution_count": 34,
     "metadata": {},
     "output_type": "execute_result"
    }
   ],
   "source": [
    "np.round(confidence_interval_t(0.05,pd.DataFrame(x).std(),len(x),pd.DataFrame(x).mean()),2)"
   ]
  },
  {
   "cell_type": "code",
   "execution_count": 23,
   "id": "9004ed83",
   "metadata": {},
   "outputs": [],
   "source": [
    "x.sort()"
   ]
  },
  {
   "cell_type": "code",
   "execution_count": 24,
   "id": "a16a18b6",
   "metadata": {},
   "outputs": [
    {
     "data": {
      "text/plain": [
       "[-0.4, 0.2, 0.5, 1.2, 1.3, 1.4, 1.6, 1.7, 1.9, 2.5]"
      ]
     },
     "execution_count": 24,
     "metadata": {},
     "output_type": "execute_result"
    }
   ],
   "source": [
    "x"
   ]
  },
  {
   "cell_type": "code",
   "execution_count": 32,
   "id": "c69f8e91",
   "metadata": {},
   "outputs": [
    {
     "data": {
      "text/plain": [
       "0    0.862103\n",
       "dtype: float64"
      ]
     },
     "execution_count": 32,
     "metadata": {},
     "output_type": "execute_result"
    }
   ],
   "source": [
    "pd.DataFrame(x).std()"
   ]
  },
  {
   "cell_type": "code",
   "execution_count": 35,
   "id": "ac89e81d",
   "metadata": {},
   "outputs": [
    {
     "data": {
      "text/plain": [
       "0.8621033709609436"
      ]
     },
     "execution_count": 35,
     "metadata": {},
     "output_type": "execute_result"
    }
   ],
   "source": [
    "np.std(x,ddof=1)"
   ]
  },
  {
   "cell_type": "markdown",
   "id": "09a52e92",
   "metadata": {},
   "source": [
    "Функция для расчтёта доверительного интервала истинной пропорции по выборочной"
   ]
  },
  {
   "cell_type": "code",
   "execution_count": 52,
   "id": "d3d2b318",
   "metadata": {},
   "outputs": [],
   "source": [
    "def confidence_interval_norm_p(alpha, n, p):\n",
    "    value = -norm.ppf(alpha / 2)* math.sqrt(p*(1-p)/n)\n",
    "    return p - value, p + value"
   ]
  },
  {
   "cell_type": "code",
   "execution_count": 53,
   "id": "12f70fd5",
   "metadata": {},
   "outputs": [],
   "source": [
    "p1 = round(132/189,3)"
   ]
  },
  {
   "cell_type": "code",
   "execution_count": 54,
   "id": "8d8ce998",
   "metadata": {},
   "outputs": [
    {
     "data": {
      "text/plain": [
       "0.698"
      ]
     },
     "execution_count": 54,
     "metadata": {},
     "output_type": "execute_result"
    }
   ],
   "source": [
    "p1"
   ]
  },
  {
   "cell_type": "code",
   "execution_count": 57,
   "id": "d4f045a4",
   "metadata": {},
   "outputs": [
    {
     "data": {
      "text/plain": [
       "array([0.643, 0.753])"
      ]
     },
     "execution_count": 57,
     "metadata": {},
     "output_type": "execute_result"
    }
   ],
   "source": [
    "np.round(confidence_interval_norm_p(0.1,189,p1),3)"
   ]
  },
  {
   "cell_type": "code",
   "execution_count": 59,
   "id": "38fbd522",
   "metadata": {},
   "outputs": [
    {
     "data": {
      "text/plain": [
       "-3.169272667175838"
      ]
     },
     "execution_count": 59,
     "metadata": {},
     "output_type": "execute_result"
    }
   ],
   "source": [
    "t.ppf(0.01/2,10)"
   ]
  },
  {
   "cell_type": "code",
   "execution_count": 60,
   "id": "c4c62eab",
   "metadata": {},
   "outputs": [
    {
     "data": {
      "text/plain": [
       "3.169272667175838"
      ]
     },
     "execution_count": 60,
     "metadata": {},
     "output_type": "execute_result"
    }
   ],
   "source": [
    "t.ppf((1+0.99)/2,10)"
   ]
  },
  {
   "cell_type": "code",
   "execution_count": 66,
   "id": "5e0be5f1",
   "metadata": {},
   "outputs": [
    {
     "data": {
      "text/plain": [
       "1.8119106729525978"
      ]
     },
     "execution_count": 66,
     "metadata": {},
     "output_type": "execute_result"
    }
   ],
   "source": [
    "-norm.ppf(0.07/2)"
   ]
  },
  {
   "cell_type": "code",
   "execution_count": 67,
   "id": "a4a5e072",
   "metadata": {},
   "outputs": [
    {
     "data": {
      "text/plain": [
       "2.575829303548901"
      ]
     },
     "execution_count": 67,
     "metadata": {},
     "output_type": "execute_result"
    }
   ],
   "source": [
    "-norm.ppf(0.01/2)"
   ]
  },
  {
   "cell_type": "code",
   "execution_count": 72,
   "id": "77fcae13",
   "metadata": {},
   "outputs": [
    {
     "data": {
      "text/plain": [
       "3.25"
      ]
     },
     "execution_count": 72,
     "metadata": {},
     "output_type": "execute_result"
    }
   ],
   "source": [
    "round(-t.ppf(0.01/2,10-1),2)"
   ]
  },
  {
   "cell_type": "code",
   "execution_count": 71,
   "id": "b4d4e2c6",
   "metadata": {},
   "outputs": [
    {
     "data": {
      "text/plain": [
       "1.98"
      ]
     },
     "execution_count": 71,
     "metadata": {},
     "output_type": "execute_result"
    }
   ],
   "source": [
    "round(-t.ppf(0.05/2,100),2)"
   ]
  },
  {
   "cell_type": "code",
   "execution_count": 76,
   "id": "d7f4eb1f",
   "metadata": {},
   "outputs": [
    {
     "data": {
      "text/plain": [
       "-1.96"
      ]
     },
     "execution_count": 76,
     "metadata": {},
     "output_type": "execute_result"
    }
   ],
   "source": [
    "round(norm.ppf(0.05/2),2)"
   ]
  },
  {
   "cell_type": "code",
   "execution_count": null,
   "id": "232e775b",
   "metadata": {},
   "outputs": [],
   "source": []
  }
 ],
 "metadata": {
  "kernelspec": {
   "display_name": "Python 3",
   "language": "python",
   "name": "python3"
  },
  "language_info": {
   "codemirror_mode": {
    "name": "ipython",
    "version": 3
   },
   "file_extension": ".py",
   "mimetype": "text/x-python",
   "name": "python",
   "nbconvert_exporter": "python",
   "pygments_lexer": "ipython3",
   "version": "3.8.8"
  }
 },
 "nbformat": 4,
 "nbformat_minor": 5
}
