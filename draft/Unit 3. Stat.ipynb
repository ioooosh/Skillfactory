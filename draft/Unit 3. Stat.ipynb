{
 "cells": [
  {
   "cell_type": "code",
   "execution_count": 52,
   "id": "8f6d7653",
   "metadata": {},
   "outputs": [],
   "source": [
    "import pandas as pd\n",
    "df = pd.DataFrame({\n",
    "    'men': [80.2, 80.8, 57.5, 98, 50.5, 73.8, 77.4, 59.7, 77.9, 52.6],\n",
    "    'women': [57.9, 57.3, 72.8, 48.2, 59.5, 48.3, 61.2, 53.9, 53.9, 70.7]\n",
    "})"
   ]
  },
  {
   "cell_type": "code",
   "execution_count": 2,
   "id": "1422bc4d",
   "metadata": {},
   "outputs": [
    {
     "data": {
      "text/html": [
       "<div>\n",
       "<style scoped>\n",
       "    .dataframe tbody tr th:only-of-type {\n",
       "        vertical-align: middle;\n",
       "    }\n",
       "\n",
       "    .dataframe tbody tr th {\n",
       "        vertical-align: top;\n",
       "    }\n",
       "\n",
       "    .dataframe thead th {\n",
       "        text-align: right;\n",
       "    }\n",
       "</style>\n",
       "<table border=\"1\" class=\"dataframe\">\n",
       "  <thead>\n",
       "    <tr style=\"text-align: right;\">\n",
       "      <th></th>\n",
       "      <th>men</th>\n",
       "      <th>women</th>\n",
       "    </tr>\n",
       "  </thead>\n",
       "  <tbody>\n",
       "    <tr>\n",
       "      <th>0</th>\n",
       "      <td>80.2</td>\n",
       "      <td>57.9</td>\n",
       "    </tr>\n",
       "    <tr>\n",
       "      <th>1</th>\n",
       "      <td>80.8</td>\n",
       "      <td>57.3</td>\n",
       "    </tr>\n",
       "    <tr>\n",
       "      <th>2</th>\n",
       "      <td>57.5</td>\n",
       "      <td>72.8</td>\n",
       "    </tr>\n",
       "    <tr>\n",
       "      <th>3</th>\n",
       "      <td>98.0</td>\n",
       "      <td>48.2</td>\n",
       "    </tr>\n",
       "    <tr>\n",
       "      <th>4</th>\n",
       "      <td>50.5</td>\n",
       "      <td>59.5</td>\n",
       "    </tr>\n",
       "    <tr>\n",
       "      <th>5</th>\n",
       "      <td>73.8</td>\n",
       "      <td>48.3</td>\n",
       "    </tr>\n",
       "    <tr>\n",
       "      <th>6</th>\n",
       "      <td>77.4</td>\n",
       "      <td>61.2</td>\n",
       "    </tr>\n",
       "    <tr>\n",
       "      <th>7</th>\n",
       "      <td>59.7</td>\n",
       "      <td>53.9</td>\n",
       "    </tr>\n",
       "    <tr>\n",
       "      <th>8</th>\n",
       "      <td>77.9</td>\n",
       "      <td>53.9</td>\n",
       "    </tr>\n",
       "    <tr>\n",
       "      <th>9</th>\n",
       "      <td>52.6</td>\n",
       "      <td>70.7</td>\n",
       "    </tr>\n",
       "  </tbody>\n",
       "</table>\n",
       "</div>"
      ],
      "text/plain": [
       "    men  women\n",
       "0  80.2   57.9\n",
       "1  80.8   57.3\n",
       "2  57.5   72.8\n",
       "3  98.0   48.2\n",
       "4  50.5   59.5\n",
       "5  73.8   48.3\n",
       "6  77.4   61.2\n",
       "7  59.7   53.9\n",
       "8  77.9   53.9\n",
       "9  52.6   70.7"
      ]
     },
     "execution_count": 2,
     "metadata": {},
     "output_type": "execute_result"
    }
   ],
   "source": [
    "df"
   ]
  },
  {
   "cell_type": "code",
   "execution_count": 5,
   "id": "5683306c",
   "metadata": {},
   "outputs": [
    {
     "data": {
      "text/plain": [
       "12.5"
      ]
     },
     "execution_count": 5,
     "metadata": {},
     "output_type": "execute_result"
    }
   ],
   "source": [
    "round((df.men.mean() - df.women.mean()),1)"
   ]
  },
  {
   "cell_type": "code",
   "execution_count": 19,
   "id": "ec5973f5",
   "metadata": {},
   "outputs": [],
   "source": [
    "list1 = [2,7,4,3,6,4,1,2]\n",
    "list2 = [5,2,4,8,1,6,7]"
   ]
  },
  {
   "cell_type": "code",
   "execution_count": 20,
   "id": "6d5b89b3",
   "metadata": {},
   "outputs": [
    {
     "data": {
      "text/plain": [
       "8"
      ]
     },
     "execution_count": 20,
     "metadata": {},
     "output_type": "execute_result"
    }
   ],
   "source": [
    "len(list1)"
   ]
  },
  {
   "cell_type": "code",
   "execution_count": 33,
   "id": "266edfdc",
   "metadata": {},
   "outputs": [
    {
     "name": "stdout",
     "output_type": "stream",
     "text": [
      "3.5\n",
      "5\n"
     ]
    }
   ],
   "source": [
    "list1.sort()\n",
    "list2.sort()\n",
    "\n",
    "print((list1[3]+list1[4])/2)\n",
    "print(list2[3])"
   ]
  },
  {
   "cell_type": "code",
   "execution_count": 23,
   "id": "e00a280b",
   "metadata": {},
   "outputs": [
    {
     "data": {
      "text/plain": [
       "75.6"
      ]
     },
     "execution_count": 23,
     "metadata": {},
     "output_type": "execute_result"
    }
   ],
   "source": [
    "df.men.median()"
   ]
  },
  {
   "cell_type": "code",
   "execution_count": 24,
   "id": "c4b40446",
   "metadata": {},
   "outputs": [
    {
     "data": {
      "text/plain": [
       "57.599999999999994"
      ]
     },
     "execution_count": 24,
     "metadata": {},
     "output_type": "execute_result"
    }
   ],
   "source": [
    "df.women.median()"
   ]
  },
  {
   "cell_type": "code",
   "execution_count": 28,
   "id": "165e9cd0",
   "metadata": {},
   "outputs": [
    {
     "data": {
      "text/plain": [
       "20"
      ]
     },
     "execution_count": 28,
     "metadata": {},
     "output_type": "execute_result"
    }
   ],
   "source": [
    "patients = list(df.men)+list(df.women)\n",
    "\n",
    "len(patients)"
   ]
  },
  {
   "cell_type": "code",
   "execution_count": 31,
   "id": "be37f846",
   "metadata": {},
   "outputs": [
    {
     "data": {
      "text/plain": [
       "59.6"
      ]
     },
     "execution_count": 31,
     "metadata": {},
     "output_type": "execute_result"
    }
   ],
   "source": [
    "patients.sort()\n",
    "(patients[9]+patients[10])/2"
   ]
  },
  {
   "cell_type": "code",
   "execution_count": null,
   "id": "a0a13616",
   "metadata": {},
   "outputs": [],
   "source": [
    "list3 = [1,2,3,4,5,6,7,8,9]\n",
    "list3 = [1,2,3,4,5,6,7,8,9,10,11]"
   ]
  },
  {
   "cell_type": "code",
   "execution_count": 36,
   "id": "59d4cea9",
   "metadata": {},
   "outputs": [
    {
     "name": "stdout",
     "output_type": "stream",
     "text": [
      "list1: [1, 2, 2, 3, 4, 4, 6, 7]\n",
      "list2: [1, 2, 4, 5, 6, 7, 8]\n"
     ]
    }
   ],
   "source": [
    "print('list1:',list1)\n",
    "print('list2:',list2)"
   ]
  },
  {
   "cell_type": "markdown",
   "id": "0fd2a616",
   "metadata": {},
   "source": [
    "list1_q1 = 2\n",
    "list1_q3 = 5\n",
    "list2_q1 = 2\n",
    "list2_q3 = 7"
   ]
  },
  {
   "cell_type": "code",
   "execution_count": 38,
   "id": "e82c73fb",
   "metadata": {},
   "outputs": [
    {
     "data": {
      "text/html": [
       "<div>\n",
       "<style scoped>\n",
       "    .dataframe tbody tr th:only-of-type {\n",
       "        vertical-align: middle;\n",
       "    }\n",
       "\n",
       "    .dataframe tbody tr th {\n",
       "        vertical-align: top;\n",
       "    }\n",
       "\n",
       "    .dataframe thead th {\n",
       "        text-align: right;\n",
       "    }\n",
       "</style>\n",
       "<table border=\"1\" class=\"dataframe\">\n",
       "  <thead>\n",
       "    <tr style=\"text-align: right;\">\n",
       "      <th></th>\n",
       "      <th>men</th>\n",
       "      <th>women</th>\n",
       "    </tr>\n",
       "  </thead>\n",
       "  <tbody>\n",
       "    <tr>\n",
       "      <th>0</th>\n",
       "      <td>80.2</td>\n",
       "      <td>57.9</td>\n",
       "    </tr>\n",
       "    <tr>\n",
       "      <th>1</th>\n",
       "      <td>80.8</td>\n",
       "      <td>57.3</td>\n",
       "    </tr>\n",
       "    <tr>\n",
       "      <th>2</th>\n",
       "      <td>57.5</td>\n",
       "      <td>72.8</td>\n",
       "    </tr>\n",
       "    <tr>\n",
       "      <th>3</th>\n",
       "      <td>98.0</td>\n",
       "      <td>48.2</td>\n",
       "    </tr>\n",
       "    <tr>\n",
       "      <th>4</th>\n",
       "      <td>50.5</td>\n",
       "      <td>59.5</td>\n",
       "    </tr>\n",
       "    <tr>\n",
       "      <th>5</th>\n",
       "      <td>73.8</td>\n",
       "      <td>48.3</td>\n",
       "    </tr>\n",
       "    <tr>\n",
       "      <th>6</th>\n",
       "      <td>77.4</td>\n",
       "      <td>61.2</td>\n",
       "    </tr>\n",
       "    <tr>\n",
       "      <th>7</th>\n",
       "      <td>59.7</td>\n",
       "      <td>53.9</td>\n",
       "    </tr>\n",
       "    <tr>\n",
       "      <th>8</th>\n",
       "      <td>77.9</td>\n",
       "      <td>53.9</td>\n",
       "    </tr>\n",
       "    <tr>\n",
       "      <th>9</th>\n",
       "      <td>52.6</td>\n",
       "      <td>70.7</td>\n",
       "    </tr>\n",
       "  </tbody>\n",
       "</table>\n",
       "</div>"
      ],
      "text/plain": [
       "    men  women\n",
       "0  80.2   57.9\n",
       "1  80.8   57.3\n",
       "2  57.5   72.8\n",
       "3  98.0   48.2\n",
       "4  50.5   59.5\n",
       "5  73.8   48.3\n",
       "6  77.4   61.2\n",
       "7  59.7   53.9\n",
       "8  77.9   53.9\n",
       "9  52.6   70.7"
      ]
     },
     "execution_count": 38,
     "metadata": {},
     "output_type": "execute_result"
    }
   ],
   "source": [
    "df"
   ]
  },
  {
   "cell_type": "code",
   "execution_count": 39,
   "id": "944904fb",
   "metadata": {},
   "outputs": [
    {
     "data": {
      "text/plain": [
       "men      58.6\n",
       "women    53.9\n",
       "Name: 0.25, dtype: float64"
      ]
     },
     "execution_count": 39,
     "metadata": {},
     "output_type": "execute_result"
    }
   ],
   "source": [
    "df.quantile(q=0.25, axis=0, numeric_only=True, interpolation='midpoint')"
   ]
  },
  {
   "cell_type": "code",
   "execution_count": 48,
   "id": "76aa2ef6",
   "metadata": {
    "scrolled": true
   },
   "outputs": [
    {
     "data": {
      "text/plain": [
       "men      79.0\n",
       "women    60.4\n",
       "Name: 0.75, dtype: float64"
      ]
     },
     "execution_count": 48,
     "metadata": {},
     "output_type": "execute_result"
    }
   ],
   "source": [
    "round(df.quantile(q=0.75, axis=0, numeric_only=True, interpolation='midpoint'),1)"
   ]
  },
  {
   "cell_type": "code",
   "execution_count": 98,
   "id": "4ba1cef3",
   "metadata": {},
   "outputs": [
    {
     "data": {
      "text/html": [
       "<div>\n",
       "<style scoped>\n",
       "    .dataframe tbody tr th:only-of-type {\n",
       "        vertical-align: middle;\n",
       "    }\n",
       "\n",
       "    .dataframe tbody tr th {\n",
       "        vertical-align: top;\n",
       "    }\n",
       "\n",
       "    .dataframe thead th {\n",
       "        text-align: right;\n",
       "    }\n",
       "</style>\n",
       "<table border=\"1\" class=\"dataframe\">\n",
       "  <thead>\n",
       "    <tr style=\"text-align: right;\">\n",
       "      <th></th>\n",
       "      <th>men</th>\n",
       "      <th>women</th>\n",
       "    </tr>\n",
       "  </thead>\n",
       "  <tbody>\n",
       "    <tr>\n",
       "      <th>0</th>\n",
       "      <td>80.2</td>\n",
       "      <td>57.9</td>\n",
       "    </tr>\n",
       "    <tr>\n",
       "      <th>1</th>\n",
       "      <td>80.8</td>\n",
       "      <td>57.3</td>\n",
       "    </tr>\n",
       "    <tr>\n",
       "      <th>2</th>\n",
       "      <td>57.5</td>\n",
       "      <td>72.8</td>\n",
       "    </tr>\n",
       "    <tr>\n",
       "      <th>3</th>\n",
       "      <td>98.0</td>\n",
       "      <td>48.2</td>\n",
       "    </tr>\n",
       "    <tr>\n",
       "      <th>4</th>\n",
       "      <td>50.5</td>\n",
       "      <td>59.5</td>\n",
       "    </tr>\n",
       "    <tr>\n",
       "      <th>5</th>\n",
       "      <td>73.8</td>\n",
       "      <td>48.3</td>\n",
       "    </tr>\n",
       "    <tr>\n",
       "      <th>6</th>\n",
       "      <td>77.4</td>\n",
       "      <td>61.2</td>\n",
       "    </tr>\n",
       "    <tr>\n",
       "      <th>7</th>\n",
       "      <td>59.7</td>\n",
       "      <td>53.9</td>\n",
       "    </tr>\n",
       "    <tr>\n",
       "      <th>8</th>\n",
       "      <td>77.9</td>\n",
       "      <td>53.9</td>\n",
       "    </tr>\n",
       "    <tr>\n",
       "      <th>9</th>\n",
       "      <td>52.6</td>\n",
       "      <td>70.7</td>\n",
       "    </tr>\n",
       "  </tbody>\n",
       "</table>\n",
       "</div>"
      ],
      "text/plain": [
       "    men  women\n",
       "0  80.2   57.9\n",
       "1  80.8   57.3\n",
       "2  57.5   72.8\n",
       "3  98.0   48.2\n",
       "4  50.5   59.5\n",
       "5  73.8   48.3\n",
       "6  77.4   61.2\n",
       "7  59.7   53.9\n",
       "8  77.9   53.9\n",
       "9  52.6   70.7"
      ]
     },
     "execution_count": 98,
     "metadata": {},
     "output_type": "execute_result"
    }
   ],
   "source": [
    "df"
   ]
  },
  {
   "cell_type": "code",
   "execution_count": 99,
   "id": "0b9736ff",
   "metadata": {},
   "outputs": [
    {
     "data": {
      "text/plain": [
       "men      50.5\n",
       "women    48.2\n",
       "dtype: float64"
      ]
     },
     "execution_count": 99,
     "metadata": {},
     "output_type": "execute_result"
    }
   ],
   "source": [
    "df.min()"
   ]
  },
  {
   "cell_type": "code",
   "execution_count": 56,
   "id": "0228d1c7",
   "metadata": {},
   "outputs": [
    {
     "data": {
      "text/plain": [
       "men      47.5\n",
       "women    24.6\n",
       "dtype: float64"
      ]
     },
     "execution_count": 56,
     "metadata": {},
     "output_type": "execute_result"
    }
   ],
   "source": [
    "df.max() - df.min()"
   ]
  },
  {
   "cell_type": "code",
   "execution_count": 58,
   "id": "785c1381",
   "metadata": {},
   "outputs": [
    {
     "data": {
      "text/plain": [
       "men      20.5\n",
       "women     6.5\n",
       "dtype: float64"
      ]
     },
     "execution_count": 58,
     "metadata": {},
     "output_type": "execute_result"
    }
   ],
   "source": [
    "iqr = df.quantile(q=0.75, axis=0, interpolation='midpoint')-df.quantile(q=0.25, axis=0, interpolation='midpoint')\n",
    "\n",
    "round(iqr,1)"
   ]
  },
  {
   "cell_type": "code",
   "execution_count": 82,
   "id": "f5e44c5b",
   "metadata": {},
   "outputs": [
    {
     "name": "stdout",
     "output_type": "stream",
     "text": [
      "men      15.182534\n",
      "women     8.271108\n",
      "dtype: float64 1\n",
      "men      230.509333\n",
      "women     68.411222\n",
      "dtype: float64 1\n"
     ]
    }
   ],
   "source": [
    "print(df.std(),1)\n",
    "print(df.var(),1)"
   ]
  },
  {
   "cell_type": "code",
   "execution_count": 100,
   "id": "b1892758",
   "metadata": {},
   "outputs": [
    {
     "name": "stdout",
     "output_type": "stream",
     "text": [
      "men      20.45\n",
      "women     6.45\n",
      "dtype: float64\n",
      "men      27.925\n",
      "women    44.225\n",
      "dtype: float64\n",
      "men      109.725\n",
      "women     70.025\n",
      "dtype: float64\n",
      "   men  women\n",
      "0  NaN    NaN\n",
      "1  NaN    NaN\n",
      "2  NaN    NaN\n",
      "3  NaN    NaN\n",
      "4  NaN    NaN\n",
      "5  NaN    NaN\n",
      "6  NaN    NaN\n",
      "7  NaN    NaN\n",
      "8  NaN    NaN\n",
      "9  NaN    NaN\n",
      "   men  women\n",
      "0  NaN    NaN\n",
      "1  NaN    NaN\n",
      "2  NaN   72.8\n",
      "3  NaN    NaN\n",
      "4  NaN    NaN\n",
      "5  NaN    NaN\n",
      "6  NaN    NaN\n",
      "7  NaN    NaN\n",
      "8  NaN    NaN\n",
      "9  NaN   70.7\n"
     ]
    }
   ],
   "source": [
    "df_q3 = df.quantile(q=0.75, axis=0, interpolation='midpoint')\n",
    "df_q1 = df.quantile(q=0.25, axis=0, interpolation='midpoint')\n",
    "\n",
    "iqr = df_q3-df_q1\n",
    "print(iqr)\n",
    "\n",
    "df_low_limit = (df_q1 - 1.5*iqr)\n",
    "df_high_limit = (df_q3 + 1.5*iqr)\n",
    "\n",
    "print(df_low_limit)\n",
    "print(df_high_limit)\n",
    "\n",
    "print(df[df < df_low_limit].copy())\n",
    "print(df[df > df_high_limit].copy())\n",
    "\n"
   ]
  },
  {
   "cell_type": "markdown",
   "id": "a58007a9",
   "metadata": {},
   "source": [
    "Таблица показывает среднюю температуру в январе (в градусах по Цельсию) в одном российском городе за 2007-2018 годы:\n",
    "\n",
    "Используя Python, найдите описательные статистики средней январской температуры за 12 лет. Ответы округлите до 1 знака после точки-разделителя.\n",
    "\n"
   ]
  },
  {
   "cell_type": "code",
   "execution_count": 145,
   "id": "be5d4719",
   "metadata": {},
   "outputs": [
    {
     "name": "stdout",
     "output_type": "stream",
     "text": [
      "t_min -12.1\n",
      "t_max -3.1\n",
      "range 9.0\n",
      "mean -6.1\n",
      "-----\n",
      "median -6.0\n",
      "q1 -6.8\n",
      "q3 -5.0\n",
      "iqr 1.9\n",
      "std 2.3\n",
      "var 5.3\n",
      "out_low    year  temp\n",
      "8  2015 -12.1\n",
      "out_high Empty DataFrame\n",
      "Columns: [year, temp]\n",
      "Index: []\n"
     ]
    }
   ],
   "source": [
    "import pandas as pd\n",
    "df = pd.DataFrame({\n",
    "    'year': [2007, 2008, 2009, 2010, 2011, 2012, 2013, 2014, 2015, 2016, 2017, 2018],\n",
    "    'temp': [-4.7, -6.1, -5.5, -3.3, -7.1, -3.1, -5.2, -7.3, -12.1, -6.6, -5.9, -6.3]\n",
    "})\n",
    "\n",
    "\n",
    "print('t_min', df.temp.min())\n",
    "print('t_max', df.temp.max())\n",
    "print('range', df.temp.max()-df.temp.min())\n",
    "print('mean', round(df.temp.mean(),1))\n",
    "print('-----')\n",
    "\n",
    "print('median',round(df.temp.quantile(q=0.5,interpolation='midpoint'),1))\n",
    "print('q1',round(df.temp.quantile(q=0.25,interpolation='midpoint'),1))\n",
    "print('q3',round(df.temp.quantile(q=0.75,interpolation='midpoint'),1))\n",
    "print('iqr', round(df.temp.quantile(q=0.75,interpolation='midpoint') - \\\n",
    "                                   df.temp.quantile(q=0.25,interpolation='midpoint'),1))\n",
    "\n",
    "print('std', round(df.temp.std(),1))\n",
    "print('var', round(df.temp.var(),1))\n",
    "\n",
    "iqr = df.temp.quantile(q=0.75,interpolation='midpoint') - \\\n",
    "                                   df.temp.quantile(q=0.25,interpolation='midpoint')\n",
    "df_q1 = df.temp.quantile(q=0.25,interpolation='midpoint')\n",
    "df_q3 = df.temp.quantile(q=0.75,interpolation='midpoint')\n",
    "\n",
    "print('out_low',df[df.temp < df_q1 - iqr*1.5])\n",
    "print('out_high',df[df.temp > df_q3 + iqr*1.5])\n"
   ]
  },
  {
   "cell_type": "code",
   "execution_count": null,
   "id": "a0b71e7e",
   "metadata": {},
   "outputs": [],
   "source": []
  }
 ],
 "metadata": {
  "kernelspec": {
   "display_name": "Python 3",
   "language": "python",
   "name": "python3"
  },
  "language_info": {
   "codemirror_mode": {
    "name": "ipython",
    "version": 3
   },
   "file_extension": ".py",
   "mimetype": "text/x-python",
   "name": "python",
   "nbconvert_exporter": "python",
   "pygments_lexer": "ipython3",
   "version": "3.8.8"
  }
 },
 "nbformat": 4,
 "nbformat_minor": 5
}
