{
 "cells": [
  {
   "cell_type": "code",
   "execution_count": 2,
   "id": "5eb2bdf1",
   "metadata": {},
   "outputs": [],
   "source": [
    "import pandas as pd\n",
    "import numpy as np"
   ]
  },
  {
   "cell_type": "code",
   "execution_count": 3,
   "id": "bc42003c",
   "metadata": {},
   "outputs": [],
   "source": [
    "data_students = pd.read_csv(\"students.csv\", index_col= None, header=None,sep=\";\")"
   ]
  },
  {
   "cell_type": "code",
   "execution_count": 4,
   "id": "1715a60c",
   "metadata": {},
   "outputs": [],
   "source": [
    "students = data_students.values\n",
    "\n",
    "students = students[0:,:-2]"
   ]
  },
  {
   "cell_type": "code",
   "execution_count": 5,
   "id": "6478441d",
   "metadata": {},
   "outputs": [
    {
     "data": {
      "text/plain": [
       "array([[  1. , 135. ,  34. ,   4. ],\n",
       "       [  2. , 160. ,  43. ,   5. ],\n",
       "       [  3. , 163. ,  40. ,   4.3],\n",
       "       [  4. , 147. ,  44. ,   5. ],\n",
       "       [  5. , 138. ,  41. ,   4.7],\n",
       "       [  6. , 149. ,  54. ,   3.9],\n",
       "       [  7. , 136. ,  39. ,   4.2],\n",
       "       [  8. , 154. ,  48. ,   4.9],\n",
       "       [  9. , 137. ,  35. ,   3.7],\n",
       "       [ 10. , 165. ,  60. ,   4.6]])"
      ]
     },
     "execution_count": 5,
     "metadata": {},
     "output_type": "execute_result"
    }
   ],
   "source": [
    "students"
   ]
  },
  {
   "cell_type": "code",
   "execution_count": 6,
   "id": "a1aa6871",
   "metadata": {},
   "outputs": [
    {
     "data": {
      "text/plain": [
       "4.430000000000001"
      ]
     },
     "execution_count": 6,
     "metadata": {},
     "output_type": "execute_result"
    }
   ],
   "source": [
    "mean = np.mean(students[:,-1])\n",
    "\n",
    "mean"
   ]
  },
  {
   "cell_type": "code",
   "execution_count": 7,
   "id": "a274825c",
   "metadata": {},
   "outputs": [
    {
     "data": {
      "text/plain": [
       "4.449999999999999"
      ]
     },
     "execution_count": 7,
     "metadata": {},
     "output_type": "execute_result"
    }
   ],
   "source": [
    "median = np.median(students[:,-1])\n",
    "median"
   ]
  },
  {
   "cell_type": "code",
   "execution_count": 8,
   "id": "19b63a22",
   "metadata": {},
   "outputs": [
    {
     "data": {
      "text/plain": [
       "42.0"
      ]
     },
     "execution_count": 8,
     "metadata": {},
     "output_type": "execute_result"
    }
   ],
   "source": [
    "median_weight = np.median(students[:,-2])\n",
    "median_weight"
   ]
  },
  {
   "cell_type": "code",
   "execution_count": 9,
   "id": "c4f6b6cf",
   "metadata": {},
   "outputs": [
    {
     "data": {
      "text/plain": [
       "1.7999999999999972"
      ]
     },
     "execution_count": 9,
     "metadata": {},
     "output_type": "execute_result"
    }
   ],
   "source": [
    "mean_weight = np.mean(students[:,-2])\n",
    "\n",
    "mean_weight - median_weight"
   ]
  },
  {
   "cell_type": "code",
   "execution_count": 12,
   "id": "874122f4",
   "metadata": {},
   "outputs": [
    {
     "data": {
      "text/plain": [
       "array([[1.        , 0.29801325],\n",
       "       [0.29801325, 1.        ]])"
      ]
     },
     "execution_count": 12,
     "metadata": {},
     "output_type": "execute_result"
    }
   ],
   "source": [
    "corr = np.corrcoef(students[:,2],students[:,3])\n",
    "corr"
   ]
  },
  {
   "cell_type": "code",
   "execution_count": 17,
   "id": "f56cc941",
   "metadata": {},
   "outputs": [
    {
     "data": {
      "text/plain": [
       "60.36"
      ]
     },
     "execution_count": 17,
     "metadata": {},
     "output_type": "execute_result"
    }
   ],
   "source": [
    "std = np.std(students[:,2])\n",
    "std**2"
   ]
  },
  {
   "cell_type": "code",
   "execution_count": 21,
   "id": "b0912061",
   "metadata": {},
   "outputs": [
    {
     "data": {
      "text/plain": [
       "60.36"
      ]
     },
     "execution_count": 21,
     "metadata": {},
     "output_type": "execute_result"
    }
   ],
   "source": [
    "disp = np.var(students[:,2])\n",
    "disp"
   ]
  },
  {
   "cell_type": "markdown",
   "id": "3a2a0851",
   "metadata": {},
   "source": [
    "Создайте массив bigdata, содержащий квадраты всех нечётных чисел в диапазоне от 100 до 1000."
   ]
  },
  {
   "cell_type": "code",
   "execution_count": 53,
   "id": "6aabfc14",
   "metadata": {},
   "outputs": [
    {
     "data": {
      "text/plain": [
       "array([ 10201,  10609,  11025,  11449,  11881,  12321,  12769,  13225,\n",
       "        13689,  14161,  14641,  15129,  15625,  16129,  16641,  17161,\n",
       "        17689,  18225,  18769,  19321,  19881,  20449,  21025,  21609,\n",
       "        22201,  22801,  23409,  24025,  24649,  25281,  25921,  26569,\n",
       "        27225,  27889,  28561,  29241,  29929,  30625,  31329,  32041,\n",
       "        32761,  33489,  34225,  34969,  35721,  36481,  37249,  38025,\n",
       "        38809,  39601,  40401,  41209,  42025,  42849,  43681,  44521,\n",
       "        45369,  46225,  47089,  47961,  48841,  49729,  50625,  51529,\n",
       "        52441,  53361,  54289,  55225,  56169,  57121,  58081,  59049,\n",
       "        60025,  61009,  62001,  63001,  64009,  65025,  66049,  67081,\n",
       "        68121,  69169,  70225,  71289,  72361,  73441,  74529,  75625,\n",
       "        76729,  77841,  78961,  80089,  81225,  82369,  83521,  84681,\n",
       "        85849,  87025,  88209,  89401,  90601,  91809,  93025,  94249,\n",
       "        95481,  96721,  97969,  99225, 100489, 101761, 103041, 104329,\n",
       "       105625, 106929, 108241, 109561, 110889, 112225, 113569, 114921,\n",
       "       116281, 117649, 119025, 120409, 121801, 123201, 124609, 126025,\n",
       "       127449, 128881, 130321, 131769, 133225, 134689, 136161, 137641,\n",
       "       139129, 140625, 142129, 143641, 145161, 146689, 148225, 149769,\n",
       "       151321, 152881, 154449, 156025, 157609, 159201, 160801, 162409,\n",
       "       164025, 165649, 167281, 168921, 170569, 172225, 173889, 175561,\n",
       "       177241, 178929, 180625, 182329, 184041, 185761, 187489, 189225,\n",
       "       190969, 192721, 194481, 196249, 198025, 199809, 201601, 203401,\n",
       "       205209, 207025, 208849, 210681, 212521, 214369, 216225, 218089,\n",
       "       219961, 221841, 223729, 225625, 227529, 229441, 231361, 233289,\n",
       "       235225, 237169, 239121, 241081, 243049, 245025, 247009, 249001,\n",
       "       251001, 253009, 255025, 257049, 259081, 261121, 263169, 265225,\n",
       "       267289, 269361, 271441, 273529, 275625, 277729, 279841, 281961,\n",
       "       284089, 286225, 288369, 290521, 292681, 294849, 297025, 299209,\n",
       "       301401, 303601, 305809, 308025, 310249, 312481, 314721, 316969,\n",
       "       319225, 321489, 323761, 326041, 328329, 330625, 332929, 335241,\n",
       "       337561, 339889, 342225, 344569, 346921, 349281, 351649, 354025,\n",
       "       356409, 358801, 361201, 363609, 366025, 368449, 370881, 373321,\n",
       "       375769, 378225, 380689, 383161, 385641, 388129, 390625, 393129,\n",
       "       395641, 398161, 400689, 403225, 405769, 408321, 410881, 413449,\n",
       "       416025, 418609, 421201, 423801, 426409, 429025, 431649, 434281,\n",
       "       436921, 439569, 442225, 444889, 447561, 450241, 452929, 455625,\n",
       "       458329, 461041, 463761, 466489, 469225, 471969, 474721, 477481,\n",
       "       480249, 483025, 485809, 488601, 491401, 494209, 497025, 499849,\n",
       "       502681, 505521, 508369, 511225, 514089, 516961, 519841, 522729,\n",
       "       525625, 528529, 531441, 534361, 537289, 540225, 543169, 546121,\n",
       "       549081, 552049, 555025, 558009, 561001, 564001, 567009, 570025,\n",
       "       573049, 576081, 579121, 582169, 585225, 588289, 591361, 594441,\n",
       "       597529, 600625, 603729, 606841, 609961, 613089, 616225, 619369,\n",
       "       622521, 625681, 628849, 632025, 635209, 638401, 641601, 644809,\n",
       "       648025, 651249, 654481, 657721, 660969, 664225, 667489, 670761,\n",
       "       674041, 677329, 680625, 683929, 687241, 690561, 693889, 697225,\n",
       "       700569, 703921, 707281, 710649, 714025, 717409, 720801, 724201,\n",
       "       727609, 731025, 734449, 737881, 741321, 744769, 748225, 751689,\n",
       "       755161, 758641, 762129, 765625, 769129, 772641, 776161, 779689,\n",
       "       783225, 786769, 790321, 793881, 797449, 801025, 804609, 808201,\n",
       "       811801, 815409, 819025, 822649, 826281, 829921, 833569, 837225,\n",
       "       840889, 844561, 848241, 851929, 855625, 859329, 863041, 866761,\n",
       "       870489, 874225, 877969, 881721, 885481, 889249, 893025, 896809,\n",
       "       900601, 904401, 908209, 912025, 915849, 919681, 923521, 927369,\n",
       "       931225, 935089, 938961, 942841, 946729, 950625, 954529, 958441,\n",
       "       962361, 966289, 970225, 974169, 978121, 982081, 986049, 990025,\n",
       "       994009, 998001])"
      ]
     },
     "execution_count": 53,
     "metadata": {},
     "output_type": "execute_result"
    }
   ],
   "source": [
    "bigdata = np.array([x**2 for x in range(100,1001) if x%2 == 1])\n",
    "\n",
    "bigdata"
   ]
  },
  {
   "cell_type": "code",
   "execution_count": 35,
   "id": "7ffc900b",
   "metadata": {},
   "outputs": [
    {
     "data": {
      "text/plain": [
       "292095.0301991155"
      ]
     },
     "execution_count": 35,
     "metadata": {},
     "output_type": "execute_result"
    }
   ],
   "source": [
    "mean_bg = np.std(bigdata)\n",
    "mean_bg"
   ]
  },
  {
   "cell_type": "code",
   "execution_count": 70,
   "id": "91f15d11",
   "metadata": {},
   "outputs": [
    {
     "data": {
      "text/plain": [
       "array([[1.        , 0.99999973],\n",
       "       [0.99999973, 1.        ]])"
      ]
     },
     "execution_count": 70,
     "metadata": {},
     "output_type": "execute_result"
    }
   ],
   "source": [
    "bg_2 = bigdata[0::2]\n",
    "bg_1 = bigdata[1::2]\n",
    "\n",
    "len(bg_1)\n",
    "\n",
    "coef = np.corrcoef(bg_1,bg_2)\n",
    "coef\n"
   ]
  },
  {
   "cell_type": "code",
   "execution_count": null,
   "id": "1be3db25",
   "metadata": {},
   "outputs": [],
   "source": []
  }
 ],
 "metadata": {
  "kernelspec": {
   "display_name": "Python 3",
   "language": "python",
   "name": "python3"
  },
  "language_info": {
   "codemirror_mode": {
    "name": "ipython",
    "version": 3
   },
   "file_extension": ".py",
   "mimetype": "text/x-python",
   "name": "python",
   "nbconvert_exporter": "python",
   "pygments_lexer": "ipython3",
   "version": "3.8.8"
  }
 },
 "nbformat": 4,
 "nbformat_minor": 5
}
