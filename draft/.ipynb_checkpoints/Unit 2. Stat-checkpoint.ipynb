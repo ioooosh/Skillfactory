{
 "cells": [
  {
   "cell_type": "code",
   "execution_count": 2,
   "id": "8f6d7653",
   "metadata": {},
   "outputs": [],
   "source": [
    "import pandas as pd\n",
    "df = pd.DataFrame({\n",
    "    'men': [80.2, 80.8, 57.5, 98, 50.5, 73.8, 77.4, 59.7, 77.9, 52.6],\n",
    "    'women': [57.9, 57.3, 72.8, 48.2, 59.5, 48.3, 61.2, 53.9, 53.9, 70.7]\n",
    "})"
   ]
  },
  {
   "cell_type": "code",
   "execution_count": 2,
   "id": "1422bc4d",
   "metadata": {},
   "outputs": [
    {
     "data": {
      "text/html": [
       "<div>\n",
       "<style scoped>\n",
       "    .dataframe tbody tr th:only-of-type {\n",
       "        vertical-align: middle;\n",
       "    }\n",
       "\n",
       "    .dataframe tbody tr th {\n",
       "        vertical-align: top;\n",
       "    }\n",
       "\n",
       "    .dataframe thead th {\n",
       "        text-align: right;\n",
       "    }\n",
       "</style>\n",
       "<table border=\"1\" class=\"dataframe\">\n",
       "  <thead>\n",
       "    <tr style=\"text-align: right;\">\n",
       "      <th></th>\n",
       "      <th>men</th>\n",
       "      <th>women</th>\n",
       "    </tr>\n",
       "  </thead>\n",
       "  <tbody>\n",
       "    <tr>\n",
       "      <th>0</th>\n",
       "      <td>80.2</td>\n",
       "      <td>57.9</td>\n",
       "    </tr>\n",
       "    <tr>\n",
       "      <th>1</th>\n",
       "      <td>80.8</td>\n",
       "      <td>57.3</td>\n",
       "    </tr>\n",
       "    <tr>\n",
       "      <th>2</th>\n",
       "      <td>57.5</td>\n",
       "      <td>72.8</td>\n",
       "    </tr>\n",
       "    <tr>\n",
       "      <th>3</th>\n",
       "      <td>98.0</td>\n",
       "      <td>48.2</td>\n",
       "    </tr>\n",
       "    <tr>\n",
       "      <th>4</th>\n",
       "      <td>50.5</td>\n",
       "      <td>59.5</td>\n",
       "    </tr>\n",
       "    <tr>\n",
       "      <th>5</th>\n",
       "      <td>73.8</td>\n",
       "      <td>48.3</td>\n",
       "    </tr>\n",
       "    <tr>\n",
       "      <th>6</th>\n",
       "      <td>77.4</td>\n",
       "      <td>61.2</td>\n",
       "    </tr>\n",
       "    <tr>\n",
       "      <th>7</th>\n",
       "      <td>59.7</td>\n",
       "      <td>53.9</td>\n",
       "    </tr>\n",
       "    <tr>\n",
       "      <th>8</th>\n",
       "      <td>77.9</td>\n",
       "      <td>53.9</td>\n",
       "    </tr>\n",
       "    <tr>\n",
       "      <th>9</th>\n",
       "      <td>52.6</td>\n",
       "      <td>70.7</td>\n",
       "    </tr>\n",
       "  </tbody>\n",
       "</table>\n",
       "</div>"
      ],
      "text/plain": [
       "    men  women\n",
       "0  80.2   57.9\n",
       "1  80.8   57.3\n",
       "2  57.5   72.8\n",
       "3  98.0   48.2\n",
       "4  50.5   59.5\n",
       "5  73.8   48.3\n",
       "6  77.4   61.2\n",
       "7  59.7   53.9\n",
       "8  77.9   53.9\n",
       "9  52.6   70.7"
      ]
     },
     "execution_count": 2,
     "metadata": {},
     "output_type": "execute_result"
    }
   ],
   "source": [
    "df"
   ]
  },
  {
   "cell_type": "code",
   "execution_count": 5,
   "id": "5683306c",
   "metadata": {},
   "outputs": [
    {
     "data": {
      "text/plain": [
       "12.5"
      ]
     },
     "execution_count": 5,
     "metadata": {},
     "output_type": "execute_result"
    }
   ],
   "source": [
    "round((df.men.mean() - df.women.mean()),1)"
   ]
  },
  {
   "cell_type": "code",
   "execution_count": 19,
   "id": "ec5973f5",
   "metadata": {},
   "outputs": [],
   "source": [
    "list1 = [2,7,4,3,6,4,1,2]\n",
    "list2 = [5,2,4,8,1,6,7]"
   ]
  },
  {
   "cell_type": "code",
   "execution_count": 20,
   "id": "6d5b89b3",
   "metadata": {},
   "outputs": [
    {
     "data": {
      "text/plain": [
       "8"
      ]
     },
     "execution_count": 20,
     "metadata": {},
     "output_type": "execute_result"
    }
   ],
   "source": [
    "len(list1)"
   ]
  },
  {
   "cell_type": "code",
   "execution_count": 33,
   "id": "266edfdc",
   "metadata": {},
   "outputs": [
    {
     "name": "stdout",
     "output_type": "stream",
     "text": [
      "3.5\n",
      "5\n"
     ]
    }
   ],
   "source": [
    "list1.sort()\n",
    "list2.sort()\n",
    "\n",
    "print((list1[3]+list1[4])/2)\n",
    "print(list2[3])"
   ]
  },
  {
   "cell_type": "code",
   "execution_count": 23,
   "id": "e00a280b",
   "metadata": {},
   "outputs": [
    {
     "data": {
      "text/plain": [
       "75.6"
      ]
     },
     "execution_count": 23,
     "metadata": {},
     "output_type": "execute_result"
    }
   ],
   "source": [
    "df.men.median()"
   ]
  },
  {
   "cell_type": "code",
   "execution_count": 24,
   "id": "c4b40446",
   "metadata": {},
   "outputs": [
    {
     "data": {
      "text/plain": [
       "57.599999999999994"
      ]
     },
     "execution_count": 24,
     "metadata": {},
     "output_type": "execute_result"
    }
   ],
   "source": [
    "df.women.median()"
   ]
  },
  {
   "cell_type": "code",
   "execution_count": 28,
   "id": "165e9cd0",
   "metadata": {},
   "outputs": [
    {
     "data": {
      "text/plain": [
       "20"
      ]
     },
     "execution_count": 28,
     "metadata": {},
     "output_type": "execute_result"
    }
   ],
   "source": [
    "patients = list(df.men)+list(df.women)\n",
    "\n",
    "len(patients)"
   ]
  },
  {
   "cell_type": "code",
   "execution_count": 31,
   "id": "be37f846",
   "metadata": {},
   "outputs": [
    {
     "data": {
      "text/plain": [
       "59.6"
      ]
     },
     "execution_count": 31,
     "metadata": {},
     "output_type": "execute_result"
    }
   ],
   "source": [
    "patients.sort()\n",
    "(patients[9]+patients[10])/2"
   ]
  },
  {
   "cell_type": "code",
   "execution_count": null,
   "id": "a0a13616",
   "metadata": {},
   "outputs": [],
   "source": [
    "list3 = [1,2,3,4,5,6,7,8,9]\n",
    "list3 = [1,2,3,4,5,6,7,8,9,10,11]"
   ]
  },
  {
   "cell_type": "code",
   "execution_count": 36,
   "id": "59d4cea9",
   "metadata": {},
   "outputs": [
    {
     "name": "stdout",
     "output_type": "stream",
     "text": [
      "list1: [1, 2, 2, 3, 4, 4, 6, 7]\n",
      "list2: [1, 2, 4, 5, 6, 7, 8]\n"
     ]
    }
   ],
   "source": [
    "print('list1:',list1)\n",
    "print('list2:',list2)"
   ]
  },
  {
   "cell_type": "markdown",
   "id": "0fd2a616",
   "metadata": {},
   "source": [
    "list1_q1 = 2\n",
    "list1_q3 = 5\n",
    "list2_q1 = 2\n",
    "list2_q3 = 7"
   ]
  },
  {
   "cell_type": "code",
   "execution_count": 38,
   "id": "e82c73fb",
   "metadata": {},
   "outputs": [
    {
     "data": {
      "text/html": [
       "<div>\n",
       "<style scoped>\n",
       "    .dataframe tbody tr th:only-of-type {\n",
       "        vertical-align: middle;\n",
       "    }\n",
       "\n",
       "    .dataframe tbody tr th {\n",
       "        vertical-align: top;\n",
       "    }\n",
       "\n",
       "    .dataframe thead th {\n",
       "        text-align: right;\n",
       "    }\n",
       "</style>\n",
       "<table border=\"1\" class=\"dataframe\">\n",
       "  <thead>\n",
       "    <tr style=\"text-align: right;\">\n",
       "      <th></th>\n",
       "      <th>men</th>\n",
       "      <th>women</th>\n",
       "    </tr>\n",
       "  </thead>\n",
       "  <tbody>\n",
       "    <tr>\n",
       "      <th>0</th>\n",
       "      <td>80.2</td>\n",
       "      <td>57.9</td>\n",
       "    </tr>\n",
       "    <tr>\n",
       "      <th>1</th>\n",
       "      <td>80.8</td>\n",
       "      <td>57.3</td>\n",
       "    </tr>\n",
       "    <tr>\n",
       "      <th>2</th>\n",
       "      <td>57.5</td>\n",
       "      <td>72.8</td>\n",
       "    </tr>\n",
       "    <tr>\n",
       "      <th>3</th>\n",
       "      <td>98.0</td>\n",
       "      <td>48.2</td>\n",
       "    </tr>\n",
       "    <tr>\n",
       "      <th>4</th>\n",
       "      <td>50.5</td>\n",
       "      <td>59.5</td>\n",
       "    </tr>\n",
       "    <tr>\n",
       "      <th>5</th>\n",
       "      <td>73.8</td>\n",
       "      <td>48.3</td>\n",
       "    </tr>\n",
       "    <tr>\n",
       "      <th>6</th>\n",
       "      <td>77.4</td>\n",
       "      <td>61.2</td>\n",
       "    </tr>\n",
       "    <tr>\n",
       "      <th>7</th>\n",
       "      <td>59.7</td>\n",
       "      <td>53.9</td>\n",
       "    </tr>\n",
       "    <tr>\n",
       "      <th>8</th>\n",
       "      <td>77.9</td>\n",
       "      <td>53.9</td>\n",
       "    </tr>\n",
       "    <tr>\n",
       "      <th>9</th>\n",
       "      <td>52.6</td>\n",
       "      <td>70.7</td>\n",
       "    </tr>\n",
       "  </tbody>\n",
       "</table>\n",
       "</div>"
      ],
      "text/plain": [
       "    men  women\n",
       "0  80.2   57.9\n",
       "1  80.8   57.3\n",
       "2  57.5   72.8\n",
       "3  98.0   48.2\n",
       "4  50.5   59.5\n",
       "5  73.8   48.3\n",
       "6  77.4   61.2\n",
       "7  59.7   53.9\n",
       "8  77.9   53.9\n",
       "9  52.6   70.7"
      ]
     },
     "execution_count": 38,
     "metadata": {},
     "output_type": "execute_result"
    }
   ],
   "source": [
    "df"
   ]
  },
  {
   "cell_type": "code",
   "execution_count": 39,
   "id": "944904fb",
   "metadata": {},
   "outputs": [
    {
     "data": {
      "text/plain": [
       "men      58.6\n",
       "women    53.9\n",
       "Name: 0.25, dtype: float64"
      ]
     },
     "execution_count": 39,
     "metadata": {},
     "output_type": "execute_result"
    }
   ],
   "source": [
    "df.quantile(q=0.25, axis=0, numeric_only=True, interpolation='midpoint')"
   ]
  },
  {
   "cell_type": "code",
   "execution_count": 48,
   "id": "76aa2ef6",
   "metadata": {
    "scrolled": true
   },
   "outputs": [
    {
     "data": {
      "text/plain": [
       "men      79.0\n",
       "women    60.4\n",
       "Name: 0.75, dtype: float64"
      ]
     },
     "execution_count": 48,
     "metadata": {},
     "output_type": "execute_result"
    }
   ],
   "source": [
    "round(df.quantile(q=0.75, axis=0, numeric_only=True, interpolation='midpoint'),1)"
   ]
  },
  {
   "cell_type": "code",
   "execution_count": 98,
   "id": "4ba1cef3",
   "metadata": {},
   "outputs": [
    {
     "data": {
      "text/html": [
       "<div>\n",
       "<style scoped>\n",
       "    .dataframe tbody tr th:only-of-type {\n",
       "        vertical-align: middle;\n",
       "    }\n",
       "\n",
       "    .dataframe tbody tr th {\n",
       "        vertical-align: top;\n",
       "    }\n",
       "\n",
       "    .dataframe thead th {\n",
       "        text-align: right;\n",
       "    }\n",
       "</style>\n",
       "<table border=\"1\" class=\"dataframe\">\n",
       "  <thead>\n",
       "    <tr style=\"text-align: right;\">\n",
       "      <th></th>\n",
       "      <th>men</th>\n",
       "      <th>women</th>\n",
       "    </tr>\n",
       "  </thead>\n",
       "  <tbody>\n",
       "    <tr>\n",
       "      <th>0</th>\n",
       "      <td>80.2</td>\n",
       "      <td>57.9</td>\n",
       "    </tr>\n",
       "    <tr>\n",
       "      <th>1</th>\n",
       "      <td>80.8</td>\n",
       "      <td>57.3</td>\n",
       "    </tr>\n",
       "    <tr>\n",
       "      <th>2</th>\n",
       "      <td>57.5</td>\n",
       "      <td>72.8</td>\n",
       "    </tr>\n",
       "    <tr>\n",
       "      <th>3</th>\n",
       "      <td>98.0</td>\n",
       "      <td>48.2</td>\n",
       "    </tr>\n",
       "    <tr>\n",
       "      <th>4</th>\n",
       "      <td>50.5</td>\n",
       "      <td>59.5</td>\n",
       "    </tr>\n",
       "    <tr>\n",
       "      <th>5</th>\n",
       "      <td>73.8</td>\n",
       "      <td>48.3</td>\n",
       "    </tr>\n",
       "    <tr>\n",
       "      <th>6</th>\n",
       "      <td>77.4</td>\n",
       "      <td>61.2</td>\n",
       "    </tr>\n",
       "    <tr>\n",
       "      <th>7</th>\n",
       "      <td>59.7</td>\n",
       "      <td>53.9</td>\n",
       "    </tr>\n",
       "    <tr>\n",
       "      <th>8</th>\n",
       "      <td>77.9</td>\n",
       "      <td>53.9</td>\n",
       "    </tr>\n",
       "    <tr>\n",
       "      <th>9</th>\n",
       "      <td>52.6</td>\n",
       "      <td>70.7</td>\n",
       "    </tr>\n",
       "  </tbody>\n",
       "</table>\n",
       "</div>"
      ],
      "text/plain": [
       "    men  women\n",
       "0  80.2   57.9\n",
       "1  80.8   57.3\n",
       "2  57.5   72.8\n",
       "3  98.0   48.2\n",
       "4  50.5   59.5\n",
       "5  73.8   48.3\n",
       "6  77.4   61.2\n",
       "7  59.7   53.9\n",
       "8  77.9   53.9\n",
       "9  52.6   70.7"
      ]
     },
     "execution_count": 98,
     "metadata": {},
     "output_type": "execute_result"
    }
   ],
   "source": [
    "df"
   ]
  },
  {
   "cell_type": "code",
   "execution_count": 99,
   "id": "0b9736ff",
   "metadata": {},
   "outputs": [
    {
     "data": {
      "text/plain": [
       "men      50.5\n",
       "women    48.2\n",
       "dtype: float64"
      ]
     },
     "execution_count": 99,
     "metadata": {},
     "output_type": "execute_result"
    }
   ],
   "source": [
    "df.min()"
   ]
  },
  {
   "cell_type": "code",
   "execution_count": 56,
   "id": "0228d1c7",
   "metadata": {},
   "outputs": [
    {
     "data": {
      "text/plain": [
       "men      47.5\n",
       "women    24.6\n",
       "dtype: float64"
      ]
     },
     "execution_count": 56,
     "metadata": {},
     "output_type": "execute_result"
    }
   ],
   "source": [
    "df.max() - df.min()"
   ]
  },
  {
   "cell_type": "code",
   "execution_count": 58,
   "id": "785c1381",
   "metadata": {},
   "outputs": [
    {
     "data": {
      "text/plain": [
       "men      20.5\n",
       "women     6.5\n",
       "dtype: float64"
      ]
     },
     "execution_count": 58,
     "metadata": {},
     "output_type": "execute_result"
    }
   ],
   "source": [
    "iqr = df.quantile(q=0.75, axis=0, interpolation='midpoint')-df.quantile(q=0.25, axis=0, interpolation='midpoint')\n",
    "\n",
    "round(iqr,1)"
   ]
  },
  {
   "cell_type": "code",
   "execution_count": 82,
   "id": "f5e44c5b",
   "metadata": {},
   "outputs": [
    {
     "name": "stdout",
     "output_type": "stream",
     "text": [
      "men      15.182534\n",
      "women     8.271108\n",
      "dtype: float64 1\n",
      "men      230.509333\n",
      "women     68.411222\n",
      "dtype: float64 1\n"
     ]
    }
   ],
   "source": [
    "print(df.std(),1)\n",
    "print(df.var(),1)"
   ]
  },
  {
   "cell_type": "code",
   "execution_count": 100,
   "id": "b1892758",
   "metadata": {},
   "outputs": [
    {
     "name": "stdout",
     "output_type": "stream",
     "text": [
      "men      20.45\n",
      "women     6.45\n",
      "dtype: float64\n",
      "men      27.925\n",
      "women    44.225\n",
      "dtype: float64\n",
      "men      109.725\n",
      "women     70.025\n",
      "dtype: float64\n",
      "   men  women\n",
      "0  NaN    NaN\n",
      "1  NaN    NaN\n",
      "2  NaN    NaN\n",
      "3  NaN    NaN\n",
      "4  NaN    NaN\n",
      "5  NaN    NaN\n",
      "6  NaN    NaN\n",
      "7  NaN    NaN\n",
      "8  NaN    NaN\n",
      "9  NaN    NaN\n",
      "   men  women\n",
      "0  NaN    NaN\n",
      "1  NaN    NaN\n",
      "2  NaN   72.8\n",
      "3  NaN    NaN\n",
      "4  NaN    NaN\n",
      "5  NaN    NaN\n",
      "6  NaN    NaN\n",
      "7  NaN    NaN\n",
      "8  NaN    NaN\n",
      "9  NaN   70.7\n"
     ]
    }
   ],
   "source": [
    "df_q3 = df.quantile(q=0.75, axis=0, interpolation='midpoint')\n",
    "df_q1 = df.quantile(q=0.25, axis=0, interpolation='midpoint')\n",
    "\n",
    "iqr = df_q3-df_q1\n",
    "print(iqr)\n",
    "\n",
    "df_low_limit = (df_q1 - 1.5*iqr)\n",
    "df_high_limit = (df_q3 + 1.5*iqr)\n",
    "\n",
    "print(df_low_limit)\n",
    "print(df_high_limit)\n",
    "\n",
    "print(df[df < df_low_limit].copy())\n",
    "print(df[df > df_high_limit].copy())\n",
    "\n"
   ]
  },
  {
   "cell_type": "markdown",
   "id": "a58007a9",
   "metadata": {},
   "source": [
    "Таблица показывает среднюю температуру в январе (в градусах по Цельсию) в одном российском городе за 2007-2018 годы:\n",
    "\n",
    "Используя Python, найдите описательные статистики средней январской температуры за 12 лет. Ответы округлите до 1 знака после точки-разделителя.\n",
    "\n"
   ]
  },
  {
   "cell_type": "code",
   "execution_count": 145,
   "id": "be5d4719",
   "metadata": {},
   "outputs": [
    {
     "name": "stdout",
     "output_type": "stream",
     "text": [
      "t_min -12.1\n",
      "t_max -3.1\n",
      "range 9.0\n",
      "mean -6.1\n",
      "-----\n",
      "median -6.0\n",
      "q1 -6.8\n",
      "q3 -5.0\n",
      "iqr 1.9\n",
      "std 2.3\n",
      "var 5.3\n",
      "out_low    year  temp\n",
      "8  2015 -12.1\n",
      "out_high Empty DataFrame\n",
      "Columns: [year, temp]\n",
      "Index: []\n"
     ]
    }
   ],
   "source": [
    "import pandas as pd\n",
    "df = pd.DataFrame({\n",
    "    'year': [2007, 2008, 2009, 2010, 2011, 2012, 2013, 2014, 2015, 2016, 2017, 2018],\n",
    "    'temp': [-4.7, -6.1, -5.5, -3.3, -7.1, -3.1, -5.2, -7.3, -12.1, -6.6, -5.9, -6.3]\n",
    "})\n",
    "\n",
    "\n",
    "print('t_min', df.temp.min())\n",
    "print('t_max', df.temp.max())\n",
    "print('range', df.temp.max()-df.temp.min())\n",
    "print('mean', round(df.temp.mean(),1))\n",
    "print('-----')\n",
    "\n",
    "print('median',round(df.temp.quantile(q=0.5,interpolation='midpoint'),1))\n",
    "print('q1',round(df.temp.quantile(q=0.25,interpolation='midpoint'),1))\n",
    "print('q3',round(df.temp.quantile(q=0.75,interpolation='midpoint'),1))\n",
    "print('iqr', round(df.temp.quantile(q=0.75,interpolation='midpoint') - \\\n",
    "                                   df.temp.quantile(q=0.25,interpolation='midpoint'),1))\n",
    "\n",
    "print('std', round(df.temp.std(),1))\n",
    "print('var', round(df.temp.var(),1))\n",
    "\n",
    "iqr = df.temp.quantile(q=0.75,interpolation='midpoint') - \\\n",
    "                                   df.temp.quantile(q=0.25,interpolation='midpoint')\n",
    "df_q1 = df.temp.quantile(q=0.25,interpolation='midpoint')\n",
    "df_q3 = df.temp.quantile(q=0.75,interpolation='midpoint')\n",
    "\n",
    "print('out_low',df[df.temp < df_q1 - iqr*1.5])\n",
    "print('out_high',df[df.temp > df_q3 + iqr*1.5])\n"
   ]
  },
  {
   "cell_type": "code",
   "execution_count": 3,
   "id": "a0b71e7e",
   "metadata": {},
   "outputs": [],
   "source": [
    "df_bills = pd.DataFrame({\n",
    "    'city_a': [240, 440, 455, 475, 475, 490, 490, 500, 500, 500, 530, 550, 578, 580, 620, 687, 694, 703, 859],\n",
    "    'city_b': [500, 564, 590, 600, 600, 600, 645, 650, 660, 667, 689, 692, 700, 700, 705, 735, 760, 764, 805]\n",
    "})"
   ]
  },
  {
   "cell_type": "code",
   "execution_count": 5,
   "id": "d1546cd2",
   "metadata": {},
   "outputs": [
    {
     "data": {
      "image/png": "[encoded data removed]",
      "text/plain": [
       "<Figure size 432x288 with 1 Axes>"
      ]
     },
     "metadata": {
      "needs_background": "light"
     },
     "output_type": "display_data"
    }
   ],
   "source": [
    "boxplot = df_bills.boxplot(column=['city_a', 'city_b'], rot=45)"
   ]
  },
  {
   "cell_type": "code",
   "execution_count": 6,
   "id": "50bc014d",
   "metadata": {},
   "outputs": [],
   "source": [
    "data = pd.DataFrame({\n",
    "  'value': [48, 44, 42.5, 40.5, 40.5, 39, 39, 38, 38, 38, 35, 33, 30.2, 30, 26, 19.3, 27, 21]\n",
    "})"
   ]
  },
  {
   "cell_type": "code",
   "execution_count": 7,
   "id": "045104e9",
   "metadata": {},
   "outputs": [
    {
     "data": {
      "image/png": "[encoded data removed]",
      "text/plain": [
       "<Figure size 432x288 with 1 Axes>"
      ]
     },
     "metadata": {
      "needs_background": "light"
     },
     "output_type": "display_data"
    }
   ],
   "source": [
    "boxplot_data = data.boxplot()"
   ]
  },
  {
   "cell_type": "code",
   "execution_count": 8,
   "id": "51fe8f24",
   "metadata": {},
   "outputs": [
    {
     "data": {
      "text/plain": [
       "value    38.0\n",
       "dtype: float64"
      ]
     },
     "execution_count": 8,
     "metadata": {},
     "output_type": "execute_result"
    }
   ],
   "source": [
    "data.median()"
   ]
  },
  {
   "cell_type": "code",
   "execution_count": 9,
   "id": "9b723187",
   "metadata": {},
   "outputs": [],
   "source": [
    "df_hours = pd.DataFrame({\n",
    "    'group_a': [72, 66, 63.75, 60.75, 60.75, 58.5, 58.5, 57, 57, 57, 52.5, 49.5, 45.3, 45, 39, 28.95, 40.5, 31.5, 49],\n",
    "    'group_b': [71, 72, 60, 50, 57, 77, 81, 58, 62, 61, 73, 74, 76, 65, 66, 67, 67, 67, 69]\n",
    "})"
   ]
  },
  {
   "cell_type": "code",
   "execution_count": 10,
   "id": "e809b427",
   "metadata": {},
   "outputs": [
    {
     "data": {
      "image/png": "[encoded data removed]",
      "text/plain": [
       "<Figure size 432x288 with 1 Axes>"
      ]
     },
     "metadata": {
      "needs_background": "light"
     },
     "output_type": "display_data"
    }
   ],
   "source": [
    "\n",
    "\n",
    "boxplot_df_hours = df_hours.boxplot()"
   ]
  },
  {
   "cell_type": "code",
   "execution_count": 11,
   "id": "6f315f79",
   "metadata": {},
   "outputs": [
    {
     "data": {
      "text/plain": [
       "3.7"
      ]
     },
     "execution_count": 11,
     "metadata": {},
     "output_type": "execute_result"
    }
   ],
   "source": [
    "E_x = 2*0.1 + 3*0.2 + 4*0.6 + 5*0.1\n",
    "\n",
    "E_x"
   ]
  },
  {
   "cell_type": "code",
   "execution_count": 12,
   "id": "9a5e5ae1",
   "metadata": {},
   "outputs": [
    {
     "data": {
      "text/plain": [
       "0.61"
      ]
     },
     "execution_count": 12,
     "metadata": {},
     "output_type": "execute_result"
    }
   ],
   "source": [
    "var = ((2-3.7)**2*0.1 + (3-3.7)**2*0.2 + (4-3.7)**2*0.6 + (5-3.7)**2*0.1)\n",
    "\n",
    "var"
   ]
  },
  {
   "cell_type": "code",
   "execution_count": 15,
   "id": "5b7bb6ce",
   "metadata": {},
   "outputs": [
    {
     "data": {
      "text/plain": [
       "0.78"
      ]
     },
     "execution_count": 15,
     "metadata": {},
     "output_type": "execute_result"
    }
   ],
   "source": [
    "std = var**(1/2)\n",
    "\n",
    "round(std,2)"
   ]
  },
  {
   "cell_type": "markdown",
   "id": "58c307d1",
   "metadata": {},
   "source": [
    "Считаем мат ожидание"
   ]
  },
  {
   "cell_type": "code",
   "execution_count": 40,
   "id": "9792e191",
   "metadata": {},
   "outputs": [
    {
     "data": {
      "text/plain": [
       "40.6"
      ]
     },
     "execution_count": 40,
     "metadata": {},
     "output_type": "execute_result"
    }
   ],
   "source": [
    "E_x_nails = 38*0.1 + 39*0.1 + 40*0.3 + 41*0.2 + 42*0.2 + 43*0.1\n",
    "\n",
    "E_x_nails"
   ]
  },
  {
   "cell_type": "code",
   "execution_count": 41,
   "id": "2dae59bb",
   "metadata": {},
   "outputs": [
    {
     "data": {
      "text/html": [
       "<div>\n",
       "<style scoped>\n",
       "    .dataframe tbody tr th:only-of-type {\n",
       "        vertical-align: middle;\n",
       "    }\n",
       "\n",
       "    .dataframe tbody tr th {\n",
       "        vertical-align: top;\n",
       "    }\n",
       "\n",
       "    .dataframe thead th {\n",
       "        text-align: right;\n",
       "    }\n",
       "</style>\n",
       "<table border=\"1\" class=\"dataframe\">\n",
       "  <thead>\n",
       "    <tr style=\"text-align: right;\">\n",
       "      <th></th>\n",
       "      <th>nails</th>\n",
       "      <th>P</th>\n",
       "    </tr>\n",
       "  </thead>\n",
       "  <tbody>\n",
       "    <tr>\n",
       "      <th>0</th>\n",
       "      <td>38</td>\n",
       "      <td>0.1</td>\n",
       "    </tr>\n",
       "    <tr>\n",
       "      <th>1</th>\n",
       "      <td>39</td>\n",
       "      <td>0.1</td>\n",
       "    </tr>\n",
       "    <tr>\n",
       "      <th>2</th>\n",
       "      <td>40</td>\n",
       "      <td>0.3</td>\n",
       "    </tr>\n",
       "    <tr>\n",
       "      <th>3</th>\n",
       "      <td>41</td>\n",
       "      <td>0.2</td>\n",
       "    </tr>\n",
       "    <tr>\n",
       "      <th>4</th>\n",
       "      <td>42</td>\n",
       "      <td>0.2</td>\n",
       "    </tr>\n",
       "    <tr>\n",
       "      <th>5</th>\n",
       "      <td>43</td>\n",
       "      <td>0.1</td>\n",
       "    </tr>\n",
       "  </tbody>\n",
       "</table>\n",
       "</div>"
      ],
      "text/plain": [
       "   nails    P\n",
       "0     38  0.1\n",
       "1     39  0.1\n",
       "2     40  0.3\n",
       "3     41  0.2\n",
       "4     42  0.2\n",
       "5     43  0.1"
      ]
     },
     "execution_count": 41,
     "metadata": {},
     "output_type": "execute_result"
    }
   ],
   "source": [
    "df_nails = pd.DataFrame({'nails':[38,39,40,41,42,43], 'P':[0.1,0.1,0.3,0.2,0.2,0.1]})\n",
    "\n",
    "df_nails"
   ]
  },
  {
   "cell_type": "code",
   "execution_count": 30,
   "id": "a3263931",
   "metadata": {},
   "outputs": [
    {
     "data": {
      "text/plain": [
       "<AxesSubplot:>"
      ]
     },
     "execution_count": 30,
     "metadata": {},
     "output_type": "execute_result"
    },
    {
     "data": {
      "image/png": "[encoded data removed]",
      "text/plain": [
       "<Figure size 432x288 with 1 Axes>"
      ]
     },
     "metadata": {
      "needs_background": "light"
     },
     "output_type": "display_data"
    }
   ],
   "source": [
    "df_nails.P.plot(kind='bar')"
   ]
  },
  {
   "cell_type": "code",
   "execution_count": 42,
   "id": "38a33f81",
   "metadata": {},
   "outputs": [
    {
     "name": "stdout",
     "output_type": "stream",
     "text": [
      "2.04\n",
      "1.43\n"
     ]
    }
   ],
   "source": [
    "Var = (38-E_x_nails)**2*0.1 + (39-E_x_nails)**2*0.1 + (40-E_x_nails)**2*0.3 + (41-E_x_nails)**2*0.2 + \\\n",
    "(42-E_x_nails)**2*0.2 + (43-E_x_nails)**2*0.1\n",
    "\n",
    "print(Var)\n",
    "\n",
    "print(round((Var)**(0.5),2))"
   ]
  },
  {
   "cell_type": "markdown",
   "id": "bc18b7d6",
   "metadata": {},
   "source": [
    "Вес одного гвоздя 10 граммов, вес пустой упаковки 20 граммов.\n",
    "\n",
    "20 + (N * 10)"
   ]
  },
  {
   "cell_type": "code",
   "execution_count": 44,
   "id": "07af9328",
   "metadata": {},
   "outputs": [
    {
     "data": {
      "text/plain": [
       "426.0"
      ]
     },
     "execution_count": 44,
     "metadata": {},
     "output_type": "execute_result"
    }
   ],
   "source": [
    "20 + (E_x_nails*10)"
   ]
  },
  {
   "cell_type": "code",
   "execution_count": 47,
   "id": "bb03fd3b",
   "metadata": {},
   "outputs": [
    {
     "data": {
      "text/plain": [
       "14.3"
      ]
     },
     "execution_count": 47,
     "metadata": {},
     "output_type": "execute_result"
    }
   ],
   "source": [
    "round((100*Var)**(0.5),1)"
   ]
  },
  {
   "cell_type": "markdown",
   "id": "34c85f48",
   "metadata": {},
   "source": [
    "Var(20 + N*10) = Var(20) + Var(N*10) = 0 + 100*Var(N)"
   ]
  },
  {
   "cell_type": "code",
   "execution_count": 49,
   "id": "98c38f13",
   "metadata": {},
   "outputs": [
    {
     "data": {
      "text/plain": [
       "2.8"
      ]
     },
     "execution_count": 49,
     "metadata": {},
     "output_type": "execute_result"
    }
   ],
   "source": [
    "E_x_1 = 1*0.2 + 2*0.1 + 3*0.4 + 4*0.3\n",
    "\n",
    "E_x_1"
   ]
  },
  {
   "cell_type": "code",
   "execution_count": 52,
   "id": "d653cbf9",
   "metadata": {},
   "outputs": [
    {
     "data": {
      "text/plain": [
       "1.16"
      ]
     },
     "execution_count": 52,
     "metadata": {},
     "output_type": "execute_result"
    }
   ],
   "source": [
    "Var_x_1 = (1-E_x_1)**2*0.2 + (2-E_x_1)**2*0.1 + (3-E_x_1)**2*0.3 + (4-E_x_1)**2*0.3\n",
    "\n",
    "round(Var_x_1,2)"
   ]
  },
  {
   "cell_type": "code",
   "execution_count": 54,
   "id": "bfdb5491",
   "metadata": {},
   "outputs": [
    {
     "data": {
      "text/plain": [
       "0.0"
      ]
     },
     "execution_count": 54,
     "metadata": {},
     "output_type": "execute_result"
    }
   ],
   "source": [
    "E_y_1 = (-1)*0.5 + 0*0.2 + 1*0.1 + 2*0.2\n",
    "\n",
    "E_y_1"
   ]
  },
  {
   "cell_type": "code",
   "execution_count": 55,
   "id": "28c2da7a",
   "metadata": {},
   "outputs": [
    {
     "data": {
      "text/plain": [
       "1.4"
      ]
     },
     "execution_count": 55,
     "metadata": {},
     "output_type": "execute_result"
    }
   ],
   "source": [
    "Var_y_1 = (-1)**2*0.5 + 1**2*0.1 + 2**2*0.2\n",
    "\n",
    "Var_y_1"
   ]
  },
  {
   "cell_type": "code",
   "execution_count": 58,
   "id": "bdf6e1f9",
   "metadata": {},
   "outputs": [
    {
     "data": {
      "text/plain": [
       "9.4"
      ]
     },
     "execution_count": 58,
     "metadata": {},
     "output_type": "execute_result"
    }
   ],
   "source": [
    "E_u_1 = 3*E_x_1 + 1\n",
    "\n",
    "round(E_u_1,2)"
   ]
  },
  {
   "cell_type": "code",
   "execution_count": 59,
   "id": "1d7861ff",
   "metadata": {},
   "outputs": [
    {
     "data": {
      "text/plain": [
       "5.0"
      ]
     },
     "execution_count": 59,
     "metadata": {},
     "output_type": "execute_result"
    }
   ],
   "source": [
    "E_s_1 = 5 - E_y_1\n",
    "\n",
    "E_s_1"
   ]
  },
  {
   "cell_type": "code",
   "execution_count": 62,
   "id": "4f04452c",
   "metadata": {},
   "outputs": [
    {
     "data": {
      "text/plain": [
       "10.4"
      ]
     },
     "execution_count": 62,
     "metadata": {},
     "output_type": "execute_result"
    }
   ],
   "source": [
    "round(9*Var_x_1,2)"
   ]
  },
  {
   "cell_type": "code",
   "execution_count": 64,
   "id": "7f49797f",
   "metadata": {},
   "outputs": [
    {
     "data": {
      "text/plain": [
       "4.4"
      ]
     },
     "execution_count": 64,
     "metadata": {},
     "output_type": "execute_result"
    }
   ],
   "source": [
    "round(3*E_x_1-4+E_y_1,2)"
   ]
  },
  {
   "cell_type": "code",
   "execution_count": 65,
   "id": "ca8633f5",
   "metadata": {},
   "outputs": [
    {
     "data": {
      "text/plain": [
       "10.44"
      ]
     },
     "execution_count": 65,
     "metadata": {},
     "output_type": "execute_result"
    }
   ],
   "source": [
    "9*1.16"
   ]
  },
  {
   "cell_type": "code",
   "execution_count": null,
   "id": "4fd7d462",
   "metadata": {},
   "outputs": [],
   "source": []
  }
 ],
 "metadata": {
  "kernelspec": {
   "display_name": "Python 3",
   "language": "python",
   "name": "python3"
  },
  "language_info": {
   "codemirror_mode": {
    "name": "ipython",
    "version": 3
   },
   "file_extension": ".py",
   "mimetype": "text/x-python",
   "name": "python",
   "nbconvert_exporter": "python",
   "pygments_lexer": "ipython3",
   "version": "3.8.8"
  }
 },
 "nbformat": 4,
 "nbformat_minor": 5
}
